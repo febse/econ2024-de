{
 "cells": [
  {
   "cell_type": "markdown",
   "metadata": {},
   "source": [
    "## ANOVA\n",
    "\n",
    "ANOVA (Analysis of Variance) is a statistical method used to test differences between two or more means. It may seem similar to the t-test, but ANOVA is more general and can be used to compare multiple groups at the same time."
   ]
  }
 ],
 "metadata": {
  "language_info": {
   "name": "python"
  }
 },
 "nbformat": 4,
 "nbformat_minor": 2
}
