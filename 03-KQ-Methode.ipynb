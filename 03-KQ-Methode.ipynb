{
 "cells": [
  {
   "cell_type": "markdown",
   "metadata": {},
   "source": [
    "# Die KQ-Methode\n",
    "\n",
    "In dieser Übung werden wir als Beispiel Daten über ein Buchchaltungsunternehmen verwenden. Das Unternehmen erhält täglich Rechnungen von seinen Kunden und bearbeitet sie (z.B. prüft sie, gibt sie in das Buchhaltungssystem ein, etc.). Der Datensatz enthält die Anzahl der bearbeiteten Rechnungen an jedem Tag und die dafür benötigte Zeit. Unser Ziel ist es, die Zeit vorherzusagen, die benötigt wird, um eine gegebene Anzahl von Rechnungen zu bearbeiten.\n",
    "\n",
    "Die Variablen in dem Datensatz sind:\n",
    "\n",
    "- `Day` (numeric): Tag der Beobachtung\n",
    "- `Invoices` (numeric): Die Anzahl der bearbeiteten Rechnungen\n",
    "- `Time` (numeric): Die Bearbeitungszeit in Stunden"
   ]
  },
  {
   "cell_type": "code",
   "execution_count": 20,
   "metadata": {},
   "outputs": [],
   "source": [
    "import matplotlib.pyplot as plt\n",
    "import numpy as np\n",
    "import pandas as pd\n",
    "import seaborn as sns"
   ]
  },
  {
   "cell_type": "code",
   "execution_count": 3,
   "metadata": {},
   "outputs": [
    {
     "data": {
      "text/html": [
       "<div>\n",
       "<style scoped>\n",
       "    .dataframe tbody tr th:only-of-type {\n",
       "        vertical-align: middle;\n",
       "    }\n",
       "\n",
       "    .dataframe tbody tr th {\n",
       "        vertical-align: top;\n",
       "    }\n",
       "\n",
       "    .dataframe thead th {\n",
       "        text-align: right;\n",
       "    }\n",
       "</style>\n",
       "<table border=\"1\" class=\"dataframe\">\n",
       "  <thead>\n",
       "    <tr style=\"text-align: right;\">\n",
       "      <th></th>\n",
       "      <th>Day</th>\n",
       "      <th>Invoices</th>\n",
       "      <th>Time</th>\n",
       "    </tr>\n",
       "  </thead>\n",
       "  <tbody>\n",
       "    <tr>\n",
       "      <th>0</th>\n",
       "      <td>1</td>\n",
       "      <td>149</td>\n",
       "      <td>2.1</td>\n",
       "    </tr>\n",
       "    <tr>\n",
       "      <th>1</th>\n",
       "      <td>2</td>\n",
       "      <td>60</td>\n",
       "      <td>1.8</td>\n",
       "    </tr>\n",
       "    <tr>\n",
       "      <th>2</th>\n",
       "      <td>3</td>\n",
       "      <td>188</td>\n",
       "      <td>2.3</td>\n",
       "    </tr>\n",
       "    <tr>\n",
       "      <th>3</th>\n",
       "      <td>4</td>\n",
       "      <td>23</td>\n",
       "      <td>0.8</td>\n",
       "    </tr>\n",
       "    <tr>\n",
       "      <th>4</th>\n",
       "      <td>5</td>\n",
       "      <td>201</td>\n",
       "      <td>2.7</td>\n",
       "    </tr>\n",
       "  </tbody>\n",
       "</table>\n",
       "</div>"
      ],
      "text/plain": [
       "   Day  Invoices  Time\n",
       "0    1       149   2.1\n",
       "1    2        60   1.8\n",
       "2    3       188   2.3\n",
       "3    4        23   0.8\n",
       "4    5       201   2.7"
      ]
     },
     "execution_count": 3,
     "metadata": {},
     "output_type": "execute_result"
    }
   ],
   "source": [
    "# Einlesen der Daten\n",
    "df = pd.read_csv('https://raw.githubusercontent.com/febse/data/main/econ/invoices.txt', delimiter=\"\\t\")\n",
    "df.head()"
   ]
  },
  {
   "cell_type": "markdown",
   "metadata": {},
   "source": [
    "Eine erste Zusammenfassung der Daten"
   ]
  },
  {
   "cell_type": "code",
   "execution_count": 4,
   "metadata": {},
   "outputs": [
    {
     "data": {
      "text/html": [
       "<div>\n",
       "<style scoped>\n",
       "    .dataframe tbody tr th:only-of-type {\n",
       "        vertical-align: middle;\n",
       "    }\n",
       "\n",
       "    .dataframe tbody tr th {\n",
       "        vertical-align: top;\n",
       "    }\n",
       "\n",
       "    .dataframe thead th {\n",
       "        text-align: right;\n",
       "    }\n",
       "</style>\n",
       "<table border=\"1\" class=\"dataframe\">\n",
       "  <thead>\n",
       "    <tr style=\"text-align: right;\">\n",
       "      <th></th>\n",
       "      <th>Day</th>\n",
       "      <th>Invoices</th>\n",
       "      <th>Time</th>\n",
       "    </tr>\n",
       "  </thead>\n",
       "  <tbody>\n",
       "    <tr>\n",
       "      <th>count</th>\n",
       "      <td>30.000000</td>\n",
       "      <td>30.000000</td>\n",
       "      <td>30.00000</td>\n",
       "    </tr>\n",
       "    <tr>\n",
       "      <th>mean</th>\n",
       "      <td>15.500000</td>\n",
       "      <td>130.033333</td>\n",
       "      <td>2.11000</td>\n",
       "    </tr>\n",
       "    <tr>\n",
       "      <th>std</th>\n",
       "      <td>8.803408</td>\n",
       "      <td>74.825537</td>\n",
       "      <td>0.90491</td>\n",
       "    </tr>\n",
       "    <tr>\n",
       "      <th>min</th>\n",
       "      <td>1.000000</td>\n",
       "      <td>23.000000</td>\n",
       "      <td>0.80000</td>\n",
       "    </tr>\n",
       "    <tr>\n",
       "      <th>25%</th>\n",
       "      <td>8.250000</td>\n",
       "      <td>62.500000</td>\n",
       "      <td>1.50000</td>\n",
       "    </tr>\n",
       "    <tr>\n",
       "      <th>50%</th>\n",
       "      <td>15.500000</td>\n",
       "      <td>127.500000</td>\n",
       "      <td>2.00000</td>\n",
       "    </tr>\n",
       "    <tr>\n",
       "      <th>75%</th>\n",
       "      <td>22.750000</td>\n",
       "      <td>189.500000</td>\n",
       "      <td>2.77500</td>\n",
       "    </tr>\n",
       "    <tr>\n",
       "      <th>max</th>\n",
       "      <td>30.000000</td>\n",
       "      <td>289.000000</td>\n",
       "      <td>4.10000</td>\n",
       "    </tr>\n",
       "  </tbody>\n",
       "</table>\n",
       "</div>"
      ],
      "text/plain": [
       "             Day    Invoices      Time\n",
       "count  30.000000   30.000000  30.00000\n",
       "mean   15.500000  130.033333   2.11000\n",
       "std     8.803408   74.825537   0.90491\n",
       "min     1.000000   23.000000   0.80000\n",
       "25%     8.250000   62.500000   1.50000\n",
       "50%    15.500000  127.500000   2.00000\n",
       "75%    22.750000  189.500000   2.77500\n",
       "max    30.000000  289.000000   4.10000"
      ]
     },
     "execution_count": 4,
     "metadata": {},
     "output_type": "execute_result"
    }
   ],
   "source": [
    "df.describe()"
   ]
  },
  {
   "cell_type": "markdown",
   "metadata": {},
   "source": [
    "Zuerst werden wir den Datensatz in einem Streudiagramm visualisieren. Der Zweck der Visualisierung ist es, eine erste Einsicht über die Assoziation zwischen den Variablen `Invoices` und `Time` zu bekommen."
   ]
  },
  {
   "cell_type": "code",
   "execution_count": 19,
   "metadata": {},
   "outputs": [
    {
     "data": {
      "image/png": "[encoded data removed]",
      "text/plain": [
       "<Figure size 640x480 with 1 Axes>"
      ]
     },
     "metadata": {},
     "output_type": "display_data"
    }
   ],
   "source": [
    "#| label: fig-invoices-scatter\n",
    "#| fig-cap: Streudiagramm der Bearbeitungszeit der Rechnungen und der Anzahl der Rechnungen.\n",
    "\n",
    "fig, ax = plt.subplots()\n",
    "\n",
    "sns.scatterplot(data=df, x=\"Invoices\", y=\"Time\", ax=ax)\n",
    "\n",
    "for x in [50, 120, 201, 250, 400]:\n",
    "    ax.axvline(x, color='r', linestyle='--', lw=1, alpha=0.2)"
   ]
  },
  {
   "cell_type": "markdown",
   "metadata": {},
   "source": [
    "Wie können wir die Zeit vorhersagen, die benötigt wird, um eine gegebene Anzahl von Rechnungen zu bearbeiten? Die roten vertikalen Geraden in @fig-invoices-scatter sind bei 50, 120, 201, 250, 400. Für diese Anzahlen von Rechnungen wollen wir die Bearbeitungszeit vorhersagen."
   ]
  },
  {
   "cell_type": "markdown",
   "metadata": {},
   "source": [
    "**Strategie 1**\n",
    "\n",
    "Eine einfache Methode wäre, die Bearbeitungszeit einfach mit der durchschnittlichen Bearbeitungszeit vorherzusagen.\n",
    "\n",
    "**Strategie 2**\n",
    "\n",
    "Eine andere Möglichkeit wäre, eine Gleichung zu unterstellen, um die Anzahl der Rechnungen zu berücksichtigen. Eine lineare Gleichung könnte z.B. so aussehen (die Koeffizienten sind hier nur Beispiele, es gibt keine konkrete Rechtfertigung für diese Werte):\n",
    "\n",
    "$$\n",
    "\\widehat{\\text{Time}}^{eq1} = 0.6 + 0.01 \\text{Invoices}\n",
    "$$\n",
    "\n",
    "\n",
    ":::{#exr-prediction-strategies}\n",
    "## Aufgabe 1\n",
    "Berechnen Sie die Vorhersagen für die Bearbeitungszeit für die zwei Strategien.\n",
    "\n",
    ":::\n"
   ]
  },
  {
   "cell_type": "code",
   "execution_count": 6,
   "metadata": {},
   "outputs": [],
   "source": [
    "# Strategie 1\n"
   ]
  },
  {
   "cell_type": "code",
   "execution_count": 7,
   "metadata": {},
   "outputs": [],
   "source": [
    "# Strategie 2\n"
   ]
  },
  {
   "cell_type": "code",
   "execution_count": 18,
   "metadata": {},
   "outputs": [
    {
     "data": {
      "text/plain": [
       "0   -0.01\n",
       "1   -0.31\n",
       "2    0.19\n",
       "3   -1.31\n",
       "4    0.59\n",
       "Name: Time, dtype: float64"
      ]
     },
     "execution_count": 18,
     "metadata": {},
     "output_type": "execute_result"
    }
   ],
   "source": [
    "# Strategie 1\n",
    "\n",
    "time_predicted_avg = df['Time'].mean()\n",
    "\n",
    "res_avg = df['Time'] - time_predicted_avg\n",
    "res_avg.head()"
   ]
  },
  {
   "cell_type": "code",
   "execution_count": 17,
   "metadata": {},
   "outputs": [
    {
     "data": {
      "text/plain": [
       "0    0.01\n",
       "1    0.60\n",
       "2   -0.18\n",
       "3   -0.03\n",
       "4    0.09\n",
       "dtype: float64"
      ]
     },
     "execution_count": 17,
     "metadata": {},
     "output_type": "execute_result"
    }
   ],
   "source": [
    "# Ein Modell, das die Anzahl der Rechnungen berücksichtigt:\n",
    "\n",
    "time_predicted_eq1 = 0.6 + 0.01 * df['Invoices']\n",
    "\n",
    "res_eq1 = df['Time'] - time_predicted_eq1\n",
    "res_eq1.head()"
   ]
  },
  {
   "cell_type": "code",
   "execution_count": 16,
   "metadata": {},
   "outputs": [
    {
     "data": {
      "text/plain": [
       "<matplotlib.collections.LineCollection at 0x7f7b7c110dd0>"
      ]
     },
     "execution_count": 16,
     "metadata": {},
     "output_type": "execute_result"
    },
    {
     "data": {
      "image/png": "[encoded data removed]",
      "text/plain": [
       "<Figure size 640x480 with 1 Axes>"
      ]
     },
     "metadata": {},
     "output_type": "display_data"
    }
   ],
   "source": [
    "fig, ax = plt.subplots()\n",
    "\n",
    "sns.scatterplot(data=df, x=\"Invoices\", y=\"Time\", ax=ax)\n",
    "\n",
    "ax.axhline(y=time_predicted_avg, xmin=0, xmax=300, color=\"firebrick\", label=r\"$\\widehat{Time} = 2.2$\")\n",
    "ax.legend(loc=0)\n",
    "ax.vlines(x=df[\"Invoices\"], ymin=time_predicted_avg, ymax=df[\"Time\"], color=\"red\", alpha=0.2)"
   ]
  },
  {
   "cell_type": "code",
   "execution_count": null,
   "metadata": {},
   "outputs": [],
   "source": [
    "fig, ax = plt.subplots()\n",
    "\n",
    "sns.scatterplot(data=df, x=\"Invoices\", y=\"Time\", ax=ax)\n",
    "\n",
    "ax.plot(df[\"Invoices\"], time_predicted_eq1, \"-\", label=r\"$\\widehat{Time} = 0.6 + 0.01 \\cdot \\text{Invoices}$\")\n",
    "ax.legend(loc=0)\n",
    "ax.vlines(x=df[\"Invoices\"], ymin=time_predicted_eq1, ymax=df[\"Time\"], color=\"red\", alpha=0.2)"
   ]
  },
  {
   "cell_type": "markdown",
   "metadata": {},
   "source": [
    "Welche Strategie passt ist besser? Um dieser Frage eine Antwort zu geben, müssen wir uns auf ein Kriterium einigen, das wir verwenden, um die Vorhersagen zu bewerten und zu vergleichen.\n",
    "\n",
    "Wir könnten z.B. die mittlere Differenz zwischen den Vorhersagen und den beobachteten Werten verwenden.\n",
    "\n",
    "$$\n",
    "\\text{Mittlere Differenz} = \\frac{1}{n} \\sum_{i=1}^{n} (y_i - \\hat{y}_i)\n",
    "$$\n",
    "\n",
    "Dabei sind $y_i$ die beobachteten Werte und $\\hat{y}_i$ die Vorhersagen.\n",
    "\n",
    ":::{#exr-mse}\n",
    "## Aufgabe 2\n",
    "Berechnen Sie die mittlere Differenz und den MSE für die beiden Strategien.\n",
    "\n",
    ":::"
   ]
  },
  {
   "cell_type": "code",
   "execution_count": null,
   "metadata": {},
   "outputs": [],
   "source": [
    "# Strategie 1\n"
   ]
  },
  {
   "cell_type": "code",
   "execution_count": null,
   "metadata": {},
   "outputs": [],
   "source": [
    "# Strategie 2\n"
   ]
  },
  {
   "cell_type": "markdown",
   "metadata": {},
   "source": [
    "Dieses scheint allerdings unsinnige Ergebnisse zu produzieren, denn die Prognosen des zweiten Modells offensichtlich näher an den Daten liegen. Die Summe der Abweichungen ist allerdings größer als beim ersten Modell. Das liegt daran, daß sich positive und negative Abweichungen in der Summe gegenseitig aufheben. Um das zu vermeiden, könnten wir die z.B. die Beträge der Abweichungen summieren"
   ]
  },
  {
   "cell_type": "markdown",
   "metadata": {},
   "source": [
    "$$\n",
    "\\sum_{i=1}^{n} |y_i - \\hat{y}_i|\n",
    "$$"
   ]
  },
  {
   "cell_type": "markdown",
   "metadata": {},
   "source": [
    "Es ist allerdings viel einfacher, die quadratischen Abweichungen zu summieren, denn die quadratische Funktion ist stetig differenzierbar und das ist mathematisch sehr bequem.\n",
    "\n",
    "$$\n",
    "\\text{RSS} = \\sum_{i=1}^{n} (y_i - \\hat{y}_i)^2\n",
    "$$\n",
    "\n",
    "Um hervorzuheben, daß die Residuenquadratsumme von den Koeffizienten $\\hat{\\beta}_0$ und $\\hat{\\beta}_1$ abhängt, schreiben wir die Residuenquadratsumme als Funktion der Koeffizienten.\n",
    "\n",
    "$$\n",
    "\\text{RSS}(\\hat{\\beta}_0, \\hat{\\beta}_1) = \\sum_{i=1}^{n} (y_i - (\\hat{\\beta}_0 + \\hat{\\beta}_1 x_i))^2\n",
    "$$\n",
    "\n",
    ":::{#exr-rss}\n",
    "## Aufgabe 3\n",
    "Berechnen Sie die Residuenquadratsumme für die beiden Strategien.\n",
    "\n",
    ":::"
   ]
  },
  {
   "cell_type": "code",
   "execution_count": null,
   "metadata": {},
   "outputs": [],
   "source": [
    "# Strategie 1\n"
   ]
  },
  {
   "cell_type": "code",
   "execution_count": null,
   "metadata": {},
   "outputs": [],
   "source": [
    "# Strategie 2\n"
   ]
  },
  {
   "cell_type": "code",
   "execution_count": null,
   "metadata": {},
   "outputs": [],
   "source": [
    "# Ihre Strategie\n",
    "# Versuchen Sie eine eigene Strategie zu entwickeln, indem Sie Koeffizienten \n",
    "# wählen, die die Residuenquadratsumme möglichst klein machen.\n",
    "\n",
    "# Berechnen Sie die RSS für Ihre Strategie und vergleichen Sie sie mit den anderen Strategien.\n",
    "\n"
   ]
  },
  {
   "cell_type": "markdown",
   "metadata": {},
   "source": [
    "Lasst uns die Residuenquadratsumme für verschiedene Werte der Koeffizienten berechnen und die Ergebnisse graphisch darstellen. Wir werden die Residuenquadratsumme als Funktion der Koeffizienten in einem 3D-Diagramm darstellen."
   ]
  },
  {
   "cell_type": "code",
   "execution_count": null,
   "metadata": {},
   "outputs": [],
   "source": [
    "# NOTE: der Code ist nur da, um die RSS zu berechnen und zu visualisieren.\n",
    "# Sie müssen ihn nicht studieren oder verstehen\n",
    "\n",
    "exp_f = 2\n",
    "\n",
    "bb0, bb1 = np.meshgrid(\n",
    "    np.linspace(0.6417 - 0.6417 * exp_f, 0.6417 + 0.6417 * exp_f, 100),\n",
    "    np.linspace(0.0113 - 0.0113 * exp_f, 0.0113 + 0.0113 * exp_f, 100)\n",
    ")\n",
    "\n",
    "# bb0, bb1 = np.meshgrid(\n",
    "#     np.linspace(-0.7 , 0.7, 100),\n",
    "#     np.linspace(-0.01, 0.01, 100)\n",
    "# )\n",
    "\n",
    "rss = np.zeros_like(bb0)\n",
    "\n",
    "for i in range(bb0.shape[0]):\n",
    "    for j in range(bb0.shape[1]):\n",
    "        time_predicted = bb0[i, j] + bb1[i, j] * df['Invoices']\n",
    "        res = df['Time'] - time_predicted\n",
    "        rss[i, j] = np.sum(res**2)\n",
    "\n",
    "fig = plt.figure()\n",
    "ax = fig.add_subplot(111, projection='3d')\n",
    "ax.plot_surface(bb0, bb1, rss, cmap='viridis')\n",
    "\n",
    "ax.set_xlabel(r\"$\\hat{\\beta}_0$\")\n",
    "ax.set_ylabel(r\"$\\hat{\\beta}_1$\")\n",
    "ax.set_zlabel('RSS')"
   ]
  },
  {
   "cell_type": "markdown",
   "metadata": {},
   "source": [
    "Zuerst werden wir das Problem in einem sehr einfachen Fall betrachten. Betrachten wir die Vorhersagegleichung\n",
    "\n",
    "$$\n",
    "\\hat{y} = \\hat{\\beta}_0\n",
    "$$\n",
    "\n",
    "Das ist eine sehr einfache Vorhersagegleichung, die nur einen Koeffizienten hat. Die Vorhersage ist für alle Werte von $x$ gleich $\\hat{\\beta}_0$ (d.h. die Vorhersage ist eine horizontale Gerade). Wo sollten wir diese horizontale Gerade zeichnen, um die Residuenquadratsumme zu minimieren?\n",
    "\n",
    "Die Antwort mag nicht ganz offenbar sein, aber es ist letztendlich sehr einfach.\n",
    "\n",
    "\n",
    "Für die Gleichung oben ist die Residuenquadratsumme:\n",
    "\n",
    "$$\n",
    "\\text{RSS}(\\hat{\\beta}_0) = \\sum_{i=1}^{n} (y_i - \\hat{\\beta}_0)^2\n",
    "$$\n",
    "\n",
    ":::{#exr-rss-1d}    \n",
    "## KQ-Methode im Intercept-Only-Modell\n",
    "\n",
    "Leiten Sie den Wert von $\\hat{\\beta}_0$ her, der die Residuenquadratsumme minimiert.\n",
    ":::\n",
    ":::{.proof collapse=\"True\"}\n",
    "Wir fangen mit der ersten Ableitung der Residuenquadratsumme nach $\\hat{\\beta}_0$ an.\n",
    "\n",
    "$$\n",
    "\\begin{align*}\n",
    "\\frac{\\partial}{\\partial \\hat{\\beta}_0} RSS(\\hat{\\beta}_0) & = \n",
    "\\sum_{i=1}^n 2(y_i - \\hat{\\beta}_0) \\cdot (-1) \\\\\n",
    "& = -2 \\sum_{i=1}^n (y_i - \\hat{\\beta}_0) \\\\\n",
    "& = -2 \\sum_{i=1}^n y_i + 2 \\sum_{i=1}^n \\hat{\\beta}_0 \\\\\n",
    "& = -2 \\sum_{i=1}^n y_i + 2 n \\hat{\\beta}_0\n",
    "\\end{align*}\n",
    "$$\n",
    "\n",
    "Im Minimum ist die Ableitung gleich 0.\n",
    "\n",
    "$$\n",
    "\\begin{align*}\n",
    "-2 \\sum_{i=1}^n y_i + 2 n \\hat{\\beta}_0 & = 0 \\\\\n",
    "\\hat{\\beta}_0 & = \\frac{1}{n} \\sum_{i=1}^n y_i \\\\\n",
    "& = \\overline{y}\n",
    "\\end{align*}\n",
    "$$\n",
    "\n",
    "Der optimale Wert von $\\hat{\\beta}_0$, der die Residuenquadratsumme minimiert, ist eifach der Durchschnitt der beobachteten Werte.\n",
    ":::"
   ]
  },
  {
   "cell_type": "markdown",
   "metadata": {},
   "source": [
    "## The one variable case\n",
    "\n",
    "Now let us consider the case where we have two variables, $\\text{Invoices}_i$ and $\\text{Time}_i$. We want to find the values of $\\hat{\\beta}_0$ and $\\hat{\\beta}_1$ that minimize the RSS.\n",
    "\n",
    "The prediction equation is\n",
    "\n",
    "$$\n",
    "\\hat{y}_i = \\hat{\\beta}_0 + \\hat{\\beta}_1 x_i\n",
    "$$\n",
    "\n",
    "The RSS is (as above)\n",
    "\n",
    "$$\n",
    "\\begin{align*}\n",
    "\\text{RSS}(\\hat{\\beta}_0, \\hat{\\beta}_1) & = \\sum_{i=1}^n (y_i - \\hat{y}_i)^2 \\\\\n",
    "  & = \\sum_{i=1}^n (y_i - \\hat{\\beta}_0 - \\hat{\\beta}_1 x_i)^2\n",
    "\\end{align*}\n",
    "$$\n",
    "\n",
    "The first order conditions for the minimum are\n",
    "\n",
    "$$\n",
    "\\begin{align*}\n",
    "\\frac{\\partial}{\\partial \\hat{\\beta}_0} \\text{RSS}(\\hat{\\beta}_0, \\hat{\\beta}_1) & = -2 \\sum_{i=1}^n (y_i - \\hat{\\beta}_0 - \\hat{\\beta}_1 x_i) = 0 \\\\\n",
    "\\frac{\\partial}{\\partial \\hat{\\beta}_1} \\text{RSS}(\\hat{\\beta}_0, \\hat{\\beta}_1) & = -2 \\sum_{i=1}^n (y_i - \\hat{\\beta}_0 - \\hat{\\beta}_1 x_i) x_i = 0\n",
    "\\end{align*}\n",
    "$$\n",
    "\n",
    "The first equation gives\n",
    "\n",
    "$$\n",
    "\\begin{align*}\n",
    "\\sum_{i=1}^n y_i - \\hat{\\beta}_0 n - \\hat{\\beta}_1 \\sum_{i=1}^n x_i & = 0 \\\\\n",
    "\\hat{\\beta}_0 n + \\hat{\\beta}_1 \\sum_{i=1}^n x_i & = \\sum_{i=1}^n y_i \\\\\n",
    "\\hat{\\beta}_0 & = \\overline{y} - \\hat{\\beta}_1 \\overline{x}\n",
    "\\end{align*}\n",
    "$$\n",
    "\n",
    "The second equation gives\n",
    "\n",
    "$$\n",
    "\\begin{align*}\n",
    "\\sum_{i=1}^n y_i x_i - \\hat{\\beta}_0 \\sum_{i=1}^n x_i - \\hat{\\beta}_1 \\sum_{i=1}^n x_i^2 & = 0 \\\\\n",
    "\\hat{\\beta}_0 \\sum_{i=1}^n x_i + \\hat{\\beta}_1 \\sum_{i=1}^n x_i^2 & = \\sum_{i=1}^n y_i x_i \\\\\n",
    "\\hat{\\beta}_0 & = \\overline{y} - \\hat{\\beta}_1 \\overline{x}\n",
    "\\end{align*}\n",
    "$$\n",
    "\n",
    "Substituting the expression for $\\hat{\\beta}_0$ in the second equation, we get\n",
    "\n",
    "$$\n",
    "\\begin{align*}\n",
    "(\\overline{y} - \\hat{\\beta}_1 \\overline{x}) \\sum_{i=1}^n x_i + \\hat{\\beta}_1 \\sum_{i=1}^n x_i^2 & = \\sum_{i=1}^n y_i x_i \\\\\n",
    "\\overline{y} \\sum_{i=1}^n x_i - \\hat{\\beta}_1 \\overline{x} \\sum_{i=1}^n x_i + \\hat{\\beta}_1 \\sum_{i=1}^n x_i^2 & = \\sum_{i=1}^n y_i x_i \\\\\n",
    "\\hat{\\beta}_1 \\sum_{i=1}^n x_i^2 & = \\sum_{i=1}^n y_i x_i - \\overline{y} \\sum_{i=1}^n x_i + \\hat{\\beta}_1 \\overline{x} \\sum_{i=1}^n x_i \\\\\n",
    "\\hat{\\beta}_1 & = \\frac{\\sum_{i=1}^n y_i x_i - \\overline{y} \\sum_{i=1}^n x_i}{\\sum_{i=1}^n x_i^2 - \\overline{x} \\sum_{i=1}^n x_i}\n",
    "\\end{align*}\n",
    "$$\n",
    "\n",
    "Simplyfing the expression, we get\n",
    "\n",
    "$$\n",
    "\\begin{align*}\n",
    "\\hat{\\beta}_1 & = \\frac{\\overline{x y} - \\overline{x} \\cdot \\overline{y}}{\\overline{x^2} - \\overline{x}^2} \\\\\n",
    "\\hat{\\beta}_0 & = \\overline{y} - \\hat{\\beta}_1 \\overline{x}\n",
    "\\end{align*}\n",
    "$$\n",
    "\n",
    "The last expression may seem a bit complicated, but it is actually quite simple. It is just the ratio between the empirical covariance between $x_i$ and $y_i$ divided by the variance of $x_i$.\n",
    "\n",
    "The empirical covariance between $x_i$ and $y_i$ is defined as the sum of the products of the deviations of $x_i$ and $y_i$ from their respective means, divided by the number of observations.\n",
    "\n",
    ":::{#def-covariance}\n",
    "## Covariance\n",
    "\n",
    "The covariance between two variables $x$ and $y$ with $n$ values is defined as\n",
    "\n",
    "$$\n",
    "S_{xy} = \\frac{1}{n - 1} \\sum_{i=1}^n (x_i - \\overline{x})(y_i - \\overline{y})\n",
    "$$\n",
    "\n",
    ":::\n",
    "\n",
    ":::{#def-variance-decomposition}\n",
    "## Variance decomposition\n",
    "\n",
    "We have already defined the variance of a variable $x$ as\n",
    "\n",
    "$$\n",
    "S_x^2 = \\frac{1}{n - 1} \\sum_{i=1}^n (x_i - \\overline{x})^2\n",
    "$$\n",
    "\n",
    "It can be shown that the variance of $x$ can be decomposed into the sum of the squared mean and the variance of the deviations from the mean.\n",
    "\n",
    "$$\n",
    "S_x^2 = \\frac{1}{n  - 1}(\\overline{x_i^2} - \\overline{x}^2)\n",
    "$$\n",
    ":::\n",
    ":::{.proof}\n",
    "The proof is straightforward. We have\n",
    "\n",
    "$$\n",
    "\\begin{align*}\n",
    "(n - 1) S_x^2 & =  \\sum_{i=1}^n (x_i - \\overline{x})^2 \\\\\n",
    "& =  \\sum_{i=1}^n (x_i^2 - 2x_i \\overline{x} + \\overline{x}^2) \\\\\n",
    "& =  \\sum_{i=1}^n x_i^2 - 2\\overline{x} \\sum_{i=1}^n x_i + \\overline{x}^2 \\sum_{i=1}^n 1 \\\\\n",
    "& =  \\sum_{i=1}^n x_i^2 - 2\\overline{x} \\sum_{i=1}^n x_i + \\overline{x}^2 n \\\\\n",
    "& =  \\sum_{i=1}^n x_i^2 - 2\\overline{x}^2 n + \\overline{x}^2 n \\\\\n",
    "& =  \\sum_{i=1}^n x_i^2 - n \\overline{x}^2 \\\\\n",
    "& = n (\\overline{x_i^2} - \\overline{x}^2)\n",
    "\\end{align*}\n",
    "$$\n",
    ":::\n",
    "\n",
    ":::{#def-covariance}\n",
    "## Covariance and Covariance decomposition\n",
    "\n",
    "The covariance between two variables $x$ and $y$ with $n$ values is defined as\n",
    "\n",
    "$$\n",
    "S_{xy} = \\frac{1}{n - 1} \\sum_{i=1}^n (x_i - \\overline{x})(y_i - \\overline{y})\n",
    "$$\n",
    "\n",
    "Much in the same way as the variance, the covariance can be decomposed into the sum of the squared mean and the variance of the deviations from the mean.\n",
    "\n",
    "$$\n",
    "(n - 1) S_{xy} = n(\\overline{x y} - \\overline{x} \\overline{y})\n",
    "$$\n",
    "\n",
    "The proof is similar to the proof for the variance decomposition.\n",
    ":::\n",
    ":::{.proof}\n",
    "The proof is straightforward. We have\n",
    "\n",
    "$$\n",
    "\\begin{align*}\n",
    "(n - 1) S_{xy} & = \\sum_{i=1}^n (x_i - \\overline{x})(y_i - \\overline{y}) \\\\\n",
    "& = \\sum_{i=1}^n x_i y_i - \\overline{x} \\sum_{i=1}^n y_i - \\overline{y} \\sum_{i=1}^n x_i + n \\overline{x} \\overline{y} \\\\\n",
    "& = n(\\overline{x y} - \\overline{x} \\overline{y})\n",
    "\\end{align*}\n",
    "$$\n",
    ":::\n",
    "\n",
    "To understand what the covariance measures, consider the following scatterplot:\n"
   ]
  },
  {
   "cell_type": "code",
   "execution_count": null,
   "metadata": {},
   "outputs": [],
   "source": [
    "# Set seed for reproducibility\n",
    "np.random.seed(0)\n",
    "\n",
    "# Create a DataFrame\n",
    "x = np.random.normal(size=100, loc=0, scale=1)\n",
    "y = 2 * x + np.random.normal(size=100, scale=1)\n",
    "\n",
    "# Plot\n",
    "plt.scatter(x, y, color=\"black\")\n",
    "plt.axvline(x.mean(), color='firebrick', label='Mittelwert von x')\n",
    "plt.axhline(y.mean(), color='steelblue', label='Mittelwert von y')\n"
   ]
  },
  {
   "cell_type": "markdown",
   "metadata": {},
   "source": [
    "\n",
    "Die rote Linie ist bei dem Durchschnitt der $x$-Werte gezeichnet und die blaue Linie ist bei dem Durchschnitt der $y$-Werte gezeichnet. Die Kovarianz misst das durchschnittliche Produkt der Abweichungen der $x$- und $\n",
    "\n",
    "Die zwei Mittelwertgeraden teilen die Ebene in vier Quadranten. Wenn das Produkt positiv ist, bedeutet das, dass wenn $x$ über seinem Durchschnitt liegt, $y$ auch über seinem Durchschnitt liegt. Wenn das Produkt negativ ist, bedeutet das, dass wenn $x$ über seinem Durchschnitt liegt, $y$ unter seinem Durchschnitt liegt.\n"
   ]
  },
  {
   "cell_type": "code",
   "execution_count": null,
   "metadata": {},
   "outputs": [],
   "source": [
    "# Kovarianz von zwei NumPy-Arrays\n",
    "# Achten Sie darauf, dass eine ganze Kovarianzmatrix zurückgegeben wird.\n",
    "# Die Diagonalelemente sind die Varianzen der einzelnen Arrays.\n",
    "\n",
    "np.cov(x, y)"
   ]
  },
  {
   "cell_type": "code",
   "execution_count": null,
   "metadata": {},
   "outputs": [],
   "source": [
    "np.var(x, ddof=1)"
   ]
  },
  {
   "cell_type": "code",
   "execution_count": null,
   "metadata": {},
   "outputs": [],
   "source": [
    "np.var(y, ddof=1)"
   ]
  },
  {
   "cell_type": "markdown",
   "metadata": {},
   "source": [
    "\n",
    "Nur das *Vorzeichen* der Kovarianz ist wichtig. Die Größe der Kovarianz hängt von den Einheiten der Variablen ab. Um die Kovarianz dimensionslos zu machen, können wir sie durch das Produkt der Standardabweichungen der beiden Variablen teilen. Das gibt uns den Korrelationskoeffizienten."
   ]
  },
  {
   "cell_type": "code",
   "execution_count": null,
   "metadata": {},
   "outputs": [],
   "source": [
    "np.cov(x, 20 * y)"
   ]
  },
  {
   "cell_type": "markdown",
   "metadata": {},
   "source": [
    "Lasst uns auch ein Beispiel betrachten, wo die Kovarianz negativ ist. In dem folgenden Code ändern wir nur das Vorzeichen des Koeffizienten von `x` in der Gleichung von `y`."
   ]
  },
  {
   "cell_type": "code",
   "execution_count": null,
   "metadata": {},
   "outputs": [],
   "source": [
    "# Set seed for reproducibility\n",
    "np.random.seed(23)\n",
    "\n",
    "# Create a DataFrame\n",
    "x1 = np.random.normal(size=100, loc=0, scale=1)\n",
    "y1 = - 2 * x1 + np.random.normal(size=100, scale=1)\n",
    "\n",
    "# Plot\n",
    "plt.scatter(x1, y1, color=\"black\")\n",
    "plt.axvline(x1.mean(), color='firebrick', label='Mittelwert von x')\n",
    "plt.axhline(y1.mean(), color='steelblue', label='Mittelwert von y')\n"
   ]
  },
  {
   "cell_type": "code",
   "execution_count": null,
   "metadata": {},
   "outputs": [],
   "source": [
    "np.cov(x1, y1)"
   ]
  },
  {
   "cell_type": "markdown",
   "metadata": {},
   "source": [
    "\n",
    ":::{#def-correlation}\n",
    "## Korrelationskoeffizient\n",
    "\n",
    "Der empirische Korrelationskoeffizient zwischen zwei Variablen $x$ und $y$ mit $n$ Werten ist definiert als\n",
    "\n",
    "$$\n",
    "r_{xy} = \\frac{S_{xy}}{S_x S_y}\n",
    "$$\n",
    "\n",
    "dabei ist $S_{xy}$ die Kovarianz zwischen $x$ und $y$, und $S_x$ und $S_y$ sind die Standardabweichungen von $x$ und $y$.\n",
    ":::\n",
    "\n",
    "Weil die Kovarianz durch das Produkt der Standardabweichungen geteilt wird, ist der Korrelationskoeffizient dimensionslos. Außerdem ist der Korrelationskoeffizient immer zwischen -1 und 1. Ein Korrelationskoeffizient von 1 bedeutet, dass die beiden Variablen auf einer Geraden mit positiver Steigung liegen. Ein Korrelationskoeffizient von -1 bedeutet, dass die beiden Variablen auf einer Geraden mit negativer Steigung liegen. Ein Korrelationskoeffizient von 0 bedeutet, dass es keine *lineare* Assoziation zwischen den beiden Variablen gibt.\n",
    "\n"
   ]
  },
  {
   "cell_type": "code",
   "execution_count": null,
   "metadata": {},
   "outputs": [],
   "source": [
    "np.corrcoef(x, y)"
   ]
  },
  {
   "cell_type": "code",
   "execution_count": null,
   "metadata": {},
   "outputs": [],
   "source": [
    "np.corrcoef(x1, y1)\n"
   ]
  },
  {
   "cell_type": "markdown",
   "metadata": {},
   "source": [
    "## Übung\n",
    "\n",
    "Definieren Sie eine Funktion, die für zwei Numpy-Arrays die KQ-Koeffizienten berechnet und als eine Tupel zurückgibt."
   ]
  },
  {
   "cell_type": "code",
   "execution_count": null,
   "metadata": {},
   "outputs": [],
   "source": [
    "x = np.random.normal(size=100, loc=0, scale=1)\n",
    "y = 1 + 2 * x + np.random.normal(size=100, scale=1.5)"
   ]
  },
  {
   "cell_type": "code",
   "execution_count": null,
   "metadata": {},
   "outputs": [],
   "source": [
    "def ols_two_variable(x, y):\n",
    "    pass"
   ]
  },
  {
   "cell_type": "code",
   "execution_count": null,
   "metadata": {},
   "outputs": [],
   "source": [
    "from statsmodels.formula.api import ols\n",
    "\n",
    "ols(\"y ~ x\", data=pd.DataFrame({'x': x, 'y': y})).fit().params\n"
   ]
  }
 ],
 "metadata": {
  "kernelspec": {
   "display_name": "econ2024",
   "language": "python",
   "name": "python3"
  },
  "language_info": {
   "codemirror_mode": {
    "name": "ipython",
    "version": 3
   },
   "file_extension": ".py",
   "mimetype": "text/x-python",
   "name": "python",
   "nbconvert_exporter": "python",
   "pygments_lexer": "ipython3",
   "version": "3.11.7"
  }
 },
 "nbformat": 4,
 "nbformat_minor": 2
}
