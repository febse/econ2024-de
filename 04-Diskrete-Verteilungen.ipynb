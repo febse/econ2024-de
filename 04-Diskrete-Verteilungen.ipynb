{
 "cells": [
  {
   "cell_type": "markdown",
   "metadata": {},
   "source": [
    "# Diskrete Verteilungen\n",
    "\n",
    "Es seien $X$ und $Y$ zwei diskrete Zufallsvariablen mit möglichen Werten $0, 1, \\ldots, K$. Die Wahrscheinlichkeitsmassenfunktionen (probability mass function, PMF) $p_X(x)$ und $p_Y(y)$ weisen jedem möglichen Ergebnis eine Wahrscheinlichkeit zu.\n",
    "\n",
    "Zum Beispiel:\n",
    "\n",
    "$$\n",
    "p_X(x) = \\begin{cases}\n",
    "0.250 & \\text{for } x = 0\\\\\n",
    "0.095 & \\text{for } x = 1 \\\\\n",
    "0.272 & \\text{for } x = 2 \\\\\n",
    "0.383 & \\text{for } x = 3 \\\\\n",
    "0 & \\text{otherwise}\n",
    "\\end{cases}\n",
    "$$\n",
    "\n",
    "$$\n",
    "p_Y(y) = \\begin{cases}\n",
    "0.76 & \\text{for } y = 2\\\\\n",
    "0.24 & \\text{for } y = 3 \\\\\n",
    "0 & \\text{otherwise}\n",
    "\\end{cases}\n",
    "$$\n",
    "\n",
    "Die PMF von $X$ und $Y$ sind in den DataFrames `px` und `py` gespeichert."
   ]
  },
  {
   "cell_type": "code",
   "execution_count": 1,
   "metadata": {},
   "outputs": [],
   "source": [
    "import pandas as pd\n",
    "import numpy as np\n",
    "import matplotlib.pyplot as plt\n",
    "import seaborn as sns\n",
    "\n",
    "px = pd.read_csv('https://raw.githubusercontent.com/febse/data/main/econ/prob_review/px.csv')\n",
    "py = pd.read_csv('https://raw.githubusercontent.com/febse/data/main/econ/prob_review/py.csv')\n",
    "pxy = pd.read_csv('https://raw.githubusercontent.com/febse/data/main/econ/prob_review/pxy.csv')\n",
    "\n",
    "pxy = pxy[[\"x\", \"y\", \"p\"]]"
   ]
  },
  {
   "cell_type": "code",
   "execution_count": 2,
   "metadata": {},
   "outputs": [
    {
     "data": {
      "text/html": [
       "<div>\n",
       "<style scoped>\n",
       "    .dataframe tbody tr th:only-of-type {\n",
       "        vertical-align: middle;\n",
       "    }\n",
       "\n",
       "    .dataframe tbody tr th {\n",
       "        vertical-align: top;\n",
       "    }\n",
       "\n",
       "    .dataframe thead th {\n",
       "        text-align: right;\n",
       "    }\n",
       "</style>\n",
       "<table border=\"1\" class=\"dataframe\">\n",
       "  <thead>\n",
       "    <tr style=\"text-align: right;\">\n",
       "      <th></th>\n",
       "      <th>x</th>\n",
       "      <th>p</th>\n",
       "    </tr>\n",
       "  </thead>\n",
       "  <tbody>\n",
       "    <tr>\n",
       "      <th>0</th>\n",
       "      <td>0</td>\n",
       "      <td>0.250</td>\n",
       "    </tr>\n",
       "    <tr>\n",
       "      <th>1</th>\n",
       "      <td>1</td>\n",
       "      <td>0.095</td>\n",
       "    </tr>\n",
       "    <tr>\n",
       "      <th>2</th>\n",
       "      <td>2</td>\n",
       "      <td>0.272</td>\n",
       "    </tr>\n",
       "    <tr>\n",
       "      <th>3</th>\n",
       "      <td>3</td>\n",
       "      <td>0.383</td>\n",
       "    </tr>\n",
       "  </tbody>\n",
       "</table>\n",
       "</div>"
      ],
      "text/plain": [
       "   x      p\n",
       "0  0  0.250\n",
       "1  1  0.095\n",
       "2  2  0.272\n",
       "3  3  0.383"
      ]
     },
     "execution_count": 236,
     "metadata": {},
     "output_type": "execute_result"
    }
   ],
   "source": [
    "#| label: tbl-distr-x\n",
    "#| tbl-cap: \"Die PMF $Y$\"\n",
    "\n",
    "px"
   ]
  },
  {
   "cell_type": "code",
   "execution_count": 3,
   "metadata": {},
   "outputs": [
    {
     "data": {
      "text/html": [
       "<div>\n",
       "<style scoped>\n",
       "    .dataframe tbody tr th:only-of-type {\n",
       "        vertical-align: middle;\n",
       "    }\n",
       "\n",
       "    .dataframe tbody tr th {\n",
       "        vertical-align: top;\n",
       "    }\n",
       "\n",
       "    .dataframe thead th {\n",
       "        text-align: right;\n",
       "    }\n",
       "</style>\n",
       "<table border=\"1\" class=\"dataframe\">\n",
       "  <thead>\n",
       "    <tr style=\"text-align: right;\">\n",
       "      <th></th>\n",
       "      <th>y</th>\n",
       "      <th>p</th>\n",
       "    </tr>\n",
       "  </thead>\n",
       "  <tbody>\n",
       "    <tr>\n",
       "      <th>0</th>\n",
       "      <td>2</td>\n",
       "      <td>0.76</td>\n",
       "    </tr>\n",
       "    <tr>\n",
       "      <th>1</th>\n",
       "      <td>3</td>\n",
       "      <td>0.24</td>\n",
       "    </tr>\n",
       "  </tbody>\n",
       "</table>\n",
       "</div>"
      ],
      "text/plain": [
       "   y     p\n",
       "0  2  0.76\n",
       "1  3  0.24"
      ]
     },
     "execution_count": 237,
     "metadata": {},
     "output_type": "execute_result"
    }
   ],
   "source": [
    "#| label: tbl-distr-y\n",
    "#| tbl-cap: \"Die PMF von $Y$\"\n",
    "\n",
    "py"
   ]
  },
  {
   "cell_type": "code",
   "execution_count": 4,
   "metadata": {},
   "outputs": [
    {
     "data": {
      "text/plain": [
       "<Axes: xlabel='x', ylabel='p'>"
      ]
     },
     "execution_count": 238,
     "metadata": {},
     "output_type": "execute_result"
    },
    {
     "data": {
      "image/png": "[encoded data removed]",
      "text/plain": [
       "<Figure size 672x480 with 1 Axes>"
      ]
     },
     "metadata": {
      "image/png": {
       "height": 432,
       "width": 597
      }
     },
     "output_type": "display_data"
    }
   ],
   "source": [
    "#| label: fig-distr-x\n",
    "#| fig-cap: \"Die PMF von $X$\"\n",
    "\n",
    "sns.barplot(x='x', y='p', data=px)"
   ]
  },
  {
   "cell_type": "markdown",
   "metadata": {},
   "source": [
    "Die PFM besitzen die Eigenschaft, dass die Summe über alle möglichen Werte eins ergibt:\n",
    "\n",
    "$$\n",
    "\\sum_{x = 0}^{3}p_X(x) = 0.250 + 0.095 + 0.272 + 0.383 = 1\n",
    "$$\n",
    "\n",
    "::: {#exr-prob-y}\n",
    "## PMF\n",
    "\n",
    "Benutzen die die Funktion `sum` aus der NumPy-Bibliothek, um zu zeigen, dass sich die PMF von $Y$ zu eins summiert. Die Wahrscheinlichkeiten befinden sich in der Spalte `p` des DataFrames `py`."
   ]
  },
  {
   "cell_type": "code",
   "execution_count": 5,
   "metadata": {},
   "outputs": [],
   "source": []
  },
  {
   "cell_type": "markdown",
   "metadata": {},
   "source": [
    "\n",
    "\n",
    "## Sampling from a univariate distribution\n",
    "\n",
    "Im Folgenden werden wir die Funktion `choice` aus der NumPy-Bibliothek verwenden, um eine Stichprobe von 10,000 Beobachtungen aus der Verteilung von $X$ zu ziehen."
   ]
  },
  {
   "cell_type": "code",
   "execution_count": 6,
   "metadata": {},
   "outputs": [
    {
     "data": {
      "text/plain": [
       "array([3, 3, 0, 0, 2, 2, 3, 3, 3, 3])"
      ]
     },
     "execution_count": 239,
     "metadata": {},
     "output_type": "execute_result"
    }
   ],
   "source": [
    "# Das erste Argument sind die möglichen Werte\n",
    "# Das zweite Argument (p) sind die Wahrscheinlichkeiten\n",
    "# Das dritte Argument (size) ist die Anzahl der Zufallszahlen\n",
    "\n",
    "smpl_x = np.random.choice(px[\"x\"], p = px[\"p\"], size = 10000)\n",
    "\n",
    "# Wir können uns die ersten 10 Zufallszahlen anschauen\n",
    "smpl_x[0:10]"
   ]
  },
  {
   "cell_type": "markdown",
   "metadata": {},
   "source": [
    "Wir können die absoluten Häufigkeiten (Anzahl) der Werte zählen"
   ]
  },
  {
   "cell_type": "code",
   "execution_count": 7,
   "metadata": {},
   "outputs": [
    {
     "name": "stderr",
     "output_type": "stream",
     "text": [
      "/tmp/ipykernel_60146/1849734910.py:1: FutureWarning:\n",
      "\n",
      "pandas.value_counts is deprecated and will be removed in a future version. Use pd.Series(obj).value_counts() instead.\n",
      "\n"
     ]
    },
    {
     "data": {
      "text/plain": [
       "3    3812\n",
       "2    2737\n",
       "0    2504\n",
       "1     947\n",
       "Name: count, dtype: int64"
      ]
     },
     "execution_count": 240,
     "metadata": {},
     "output_type": "execute_result"
    }
   ],
   "source": [
    "pd.value_counts(smpl_x)"
   ]
  },
  {
   "cell_type": "markdown",
   "metadata": {},
   "source": [
    "und die relative Häufigkeit berechnen, indem wir die Anzahl durch die Gesamtzahl der Beobachtungen teilen."
   ]
  },
  {
   "cell_type": "code",
   "execution_count": 8,
   "metadata": {},
   "outputs": [
    {
     "name": "stderr",
     "output_type": "stream",
     "text": [
      "/tmp/ipykernel_60146/979932776.py:1: FutureWarning:\n",
      "\n",
      "pandas.value_counts is deprecated and will be removed in a future version. Use pd.Series(obj).value_counts() instead.\n",
      "\n"
     ]
    },
    {
     "data": {
      "text/plain": [
       "3    0.3812\n",
       "2    0.2737\n",
       "0    0.2504\n",
       "1    0.0947\n",
       "Name: proportion, dtype: float64"
      ]
     },
     "execution_count": 241,
     "metadata": {},
     "output_type": "execute_result"
    }
   ],
   "source": [
    "pd.value_counts(smpl_x, normalize=True)"
   ]
  },
  {
   "cell_type": "code",
   "execution_count": 9,
   "metadata": {},
   "outputs": [
    {
     "data": {
      "text/plain": [
       "<Axes: ylabel='count'>"
      ]
     },
     "execution_count": 242,
     "metadata": {},
     "output_type": "execute_result"
    },
    {
     "data": {
      "image/png": "[encoded data removed]",
      "text/plain": [
       "<Figure size 672x480 with 1 Axes>"
      ]
     },
     "metadata": {
      "image/png": {
       "height": 415,
       "width": 601
      }
     },
     "output_type": "display_data"
    }
   ],
   "source": [
    "sns.countplot(x = smpl_x)"
   ]
  },
  {
   "cell_type": "markdown",
   "metadata": {},
   "source": [
    "\n",
    "::: {#exr-prob-y-sample}\n",
    "## Sampling from the Distribution of Y\n",
    "\n",
    "Ziehen Sie eine Stichprobe von 10,000 Beobachtungen aus der Verteilung von $Y$ und berechnen Sie die absoluten und die relativen Häufigkeiten der Werte und visualisieren Sie die Häufigkeiten mit einem Balkendiagramm.\n",
    ":::"
   ]
  },
  {
   "cell_type": "code",
   "execution_count": 10,
   "metadata": {},
   "outputs": [],
   "source": [
    "# Benutzen Sie den Code aus der vorherigen Zelle, um eine Stichprobe von $Y$ zu ziehen. Achten Sie\n",
    "# darauf, dass die Spalte mit den möglichen Werten von $Y$ \"y\" heißt.\n",
    "\n"
   ]
  },
  {
   "cell_type": "code",
   "execution_count": 11,
   "metadata": {},
   "outputs": [],
   "source": [
    "# Die absoluten Häufigkeiten\n"
   ]
  },
  {
   "cell_type": "code",
   "execution_count": 12,
   "metadata": {},
   "outputs": [],
   "source": [
    "# Die relativen Häufigkeiten\n"
   ]
  },
  {
   "cell_type": "code",
   "execution_count": 13,
   "metadata": {},
   "outputs": [],
   "source": [
    "# Das Balkendiagramm\n"
   ]
  },
  {
   "cell_type": "markdown",
   "metadata": {},
   "source": [
    "\n",
    "## Der Erwartungswert\n",
    "\n",
    "Der Erwartungswert einer Zufallsvariablen (Verteilung) ist der gewichtete Durchschnitt aller möglichen Werte, die auftreten können. Die Gewichte sind die Wahrscheinlichkeiten, mit denen die Werte auftreten. Der Erwartungswert ist ein Maß für die *Lage* der Verteilung.\n",
    "\n",
    "$$\n",
    "\\begin{align}\n",
    "\\mu_x & = E(X) = \\sum_{x = 0}^{3} x p_X(x) = 0 \\times 0.250 + 1 \\times 0.095 + 2 \\times 0.272 + 3 \\times 0.383 = 1.788 \\\\\n",
    "\\end{align}\n",
    "$$"
   ]
  },
  {
   "cell_type": "code",
   "execution_count": 14,
   "metadata": {},
   "outputs": [
    {
     "data": {
      "text/plain": [
       "1.788"
      ]
     },
     "execution_count": 247,
     "metadata": {},
     "output_type": "execute_result"
    }
   ],
   "source": [
    "x_expected_value = np.sum(px[\"x\"] * px[\"p\"])\n",
    "x_expected_value"
   ]
  },
  {
   "cell_type": "code",
   "execution_count": 15,
   "metadata": {},
   "outputs": [
    {
     "data": {
      "text/plain": [
       "1.7857"
      ]
     },
     "execution_count": 248,
     "metadata": {},
     "output_type": "execute_result"
    }
   ],
   "source": [
    "np.mean(smpl_x)"
   ]
  },
  {
   "cell_type": "code",
   "execution_count": 16,
   "metadata": {},
   "outputs": [
    {
     "data": {
      "text/plain": [
       "<matplotlib.lines.Line2D at 0x79c5e6827810>"
      ]
     },
     "execution_count": 249,
     "metadata": {},
     "output_type": "execute_result"
    },
    {
     "data": {
      "image/png": "[encoded data removed]",
      "text/plain": [
       "<Figure size 672x480 with 1 Axes>"
      ]
     },
     "metadata": {
      "image/png": {
       "height": 432,
       "width": 597
      }
     },
     "output_type": "display_data"
    }
   ],
   "source": [
    "fig, ax = plt.subplots()\n",
    "\n",
    "sns.barplot(x='x', y='p', data=px, ax = ax, fill = False)\n",
    "ax.axvline(x = x_expected_value, color = \"firebrick\", linestyle = \"--\")\n"
   ]
  },
  {
   "cell_type": "markdown",
   "metadata": {},
   "source": [
    "::: {#exr-expectation}\n",
    "## Erwartungswert\n",
    "\n",
    "Berechnen Sie den Erwartungswert von $Y$.\n",
    ":::\n"
   ]
  },
  {
   "cell_type": "code",
   "execution_count": 17,
   "metadata": {},
   "outputs": [],
   "source": []
  },
  {
   "cell_type": "markdown",
   "metadata": {},
   "source": [
    "Der Erwartungswert ist die beste Vorhersage für zukünftige Werte einer Zufallsvariablen, in dem Sinne, dass er den erwarteten Wert der quadratischen Verlustfunktion minimiert:\n",
    "\n",
    "$$\n",
    "E[(X - \\hat{x})^2]\n",
    "$$\n",
    "\n",
    "Lassen Sie uns ein Beispiel konstruieren. Sie müssen das Ergebnis von $X$ vorhersagen und Sie denken, dass die beste Vorhersage $\\bar{x} = 1$ ist. Wenn das Spiel läuft, wird es vier mögliche Werte produzieren: 0, 1, 2 und 3. Die Fehler, den Sie machen werden, sind:\n",
    "\n",
    "$$\n",
    "L(x) = (x - 1)^2 =\n",
    "\\begin{cases}\n",
    "   (0 - 1)^2 = 1 & \\text{x = 0}\\\\\n",
    "   (1 - 1)^2 = 0 & \\text{x = 1}\\\\\n",
    "   (2 - 1)^2 = 1 & \\text{x = 2}\\\\\n",
    "   (3 - 1)^2 = 4 & \\text{x = 3}\n",
    "\\end{cases}\n",
    "$$\n",
    "\n",
    "::: {#exr-expected-loss}\n",
    "## Erwarteter Verlust\n",
    "\n",
    "Berechnen Sie den erwarteten Verlust für eine Vorhersage von $\\bar{x} = 1.5$.\n",
    "\n",
    ":::"
   ]
  },
  {
   "cell_type": "code",
   "execution_count": 18,
   "metadata": {},
   "outputs": [],
   "source": [
    "# Berechnen Sie zuerst die Fehler\n",
    "\n",
    "# errors = ... - 1.5\n",
    "# errors"
   ]
  },
  {
   "cell_type": "code",
   "execution_count": 19,
   "metadata": {},
   "outputs": [],
   "source": [
    "# Danach quadrieren Sie die Fehler\n",
    "## squared_errors = ...**2"
   ]
  },
  {
   "cell_type": "code",
   "execution_count": 20,
   "metadata": {},
   "outputs": [],
   "source": [
    "# Zuletzt multiplizieren Sie die quadrierten Fehler mit den Wahrscheinlichkeiten und summieren Sie\n",
    "\n",
    "# np.sum(... * ...)"
   ]
  },
  {
   "cell_type": "markdown",
   "metadata": {},
   "source": [
    "## Die Varianz\n",
    "\n",
    "Die Varianz einer Zufallsvariablen (Verteilung) misst, wie unterschiedlich die möglichen Werte sind, die auftreten können. Werte, die unter $p_X$ häufiger auftreten (eine höhere Wahrscheinlichkeit haben), erhalten ein höheres Gewicht. Werte, die unter $p_X$ seltener auftreten, erhalten ein geringeres Gewicht in der Summe.\n",
    "\n",
    ":::{#def-variance}\n",
    "## Varianz\n",
    "\n",
    "Die Varianz ist als die erwartete quadratische Abweichung von dem Erwartungswert definiert\n",
    "\n",
    "$$\n",
    "Var(X) = E\\left( (X - E(X))^2\\right)\n",
    "$$\n",
    "\n",
    "Für diskrete Verteilungen ist diese Erwartung einfach der gewichtete (mit den Wahrscheinlichkeiten) Durchschnitt der quadrierten Abweichungen vom Erwartungswert.\n",
    ":::\n",
    "\n",
    "In unserem Beispiel ist die Varianz von $X$:\n",
    "\n",
    "$$\n",
    "Var(X) = \\sum_{x = 0}^{3} (x - \\mu_x)^2 \\times p_X(x)\n",
    "$$\n",
    "\n",
    "$$\n",
    "\\begin{align}\n",
    "Var(X) & = \\sum_{x = 0}^{3} (x - \\mu_x)^2 \\times p_X(x) \\\\\n",
    "       & = (0 - 1.788)^2 \\times 0.250 + (1 - 1.788)^2 \\times 0.095 + (2 - 1.788)^2\\times 0.272 + (3 - 1.788)^2 \\times 0.383 \\\\\n",
    "       & = (-1.788)^2 \\times 0.250 + (-0.788)^2 \\times 0.095 + (0.212)^2\\times 0.272 + (1.212)^2 \\times 0.383 \\\\\n",
    "       & = 3.196 \\times 0.250 + 0.620^2 \\times 0.095 + 0.044 \\times 0.272 + 1.468 \\times 0.383 \\\\\n",
    "       & \\approx 1.433\n",
    "\\end{align}\n",
    "$$ {#eq-variance}\n"
   ]
  },
  {
   "cell_type": "code",
   "execution_count": 21,
   "metadata": {},
   "outputs": [
    {
     "data": {
      "text/plain": [
       "1.433056"
      ]
     },
     "execution_count": 253,
     "metadata": {},
     "output_type": "execute_result"
    }
   ],
   "source": [
    "np.sum(((px[\"x\"] - x_expected_value)**2) * px[\"p\"])"
   ]
  },
  {
   "cell_type": "markdown",
   "metadata": {},
   "source": [
    "::: {#thm-exp-value-props}\n",
    "## Eigenschaften des Erwartungswertes\n",
    "\n",
    "Es sei $X$ eine Zufallsvariable mit Erwartungswert $E(X)$, $Y$ eine Zufallsvariable mit Erwartungswert $E(Y)$ und $a$ eine feste Konstante ($a \\in \\mathbb{R}$). Man kann zeigen, dass die folgenden Eigenschaften gelten:\n",
    "\n",
    "$$\n",
    "\\begin{align}\n",
    "E(a) & = a \\\\\n",
    "E(aX) & = aE(X) \\\\\n",
    "E(X + Y) & = E(X) + E(Y)\n",
    "\\end{align}\n",
    "$$\n",
    "\n",
    "Ferner, wenn $X$ und $Y$ *unkorreliert* sind, dann ist der Erwartungswert des Produkts der beiden Zufallsvariablen gleich dem Produkt ihrer Erwartungswerte:\n",
    "\n",
    "$$\n",
    "E(XY) = E(X)E(Y)\n",
    "$$\n",
    ":::\n",
    "\n",
    "::: {.callout-note collapse=\"true\"}\n",
    "## Proof of the Properties of the Expectation\n",
    "\n",
    "1.  $E(a) = a$\n",
    "\n",
    "The expected value of a discrete variable $X$ with possible outcomes $x_1, x_2, \\ldots, x_n$ and probabilities $p_1, p_2, \\ldots, p_n$ is given by\n",
    "\n",
    "$$\n",
    "E(X) = \\sum_{i = 1}^{n} x_i p_i\n",
    "$$\n",
    "\n",
    "Multiplying both sides by $a$ gives\n",
    "\n",
    "$$\n",
    "aE(X) = a\\sum_{i = 1}^{n} x_i p_i = \\sum_{i = 1}^{n} ax_i p_i\n",
    "$$\n",
    "\n",
    "The right-hand side is the expected value of a random variable that takes the values $ax_1, ax_2, \\ldots, ax_n$ with probabilities $p_1, p_2, \\ldots, p_n$. Therefore, $E(aX) = aE(X)$.\n",
    "\n",
    "2.  $E(X + Y) = E(X) + E(Y)$\n",
    "\n",
    "This proof involves the joint distribution function of $X$ and $Y$ which we will introduce later. The proof is based on the linearity of the expected value operator.\n",
    ":::\n",
    "\n",
    "::: {#thm-variance-short}\n",
    "## Eigenschaften der Varianz\n",
    "\n",
    "Es sei $X$ eine Zufallsvariable mit Erwartungswert $E(X)$, $Y$ eine Zufallsvariable mit Erwartungswert $E(Y)$ und $a$ eine feste Konstante ($a \\in \\mathbb{R}$). Man kann zeigen, dass die folgenden Eigenschaften gelten:\n",
    "\n",
    "$$\n",
    "Var(X) = E(X^2) - E(X)^2\n",
    "$$\n",
    "\n",
    "$$\n",
    "\\begin{align}\n",
    "Var(a) & = 0 \\\\\n",
    "Var(aX) & = a^2 Var(X)\n",
    "\\end{align}\n",
    "$$\n",
    "\n",
    "Falls $X$ und $Y$ *unkorreliert* sind, dann ist die Varianz der Summe der beiden Zufallsvariablen gleich der Summe ihrer Varianzen:\n",
    "\n",
    "$$\n",
    "Var(X + Y) = Var(X) + Var(Y)\n",
    "$$\n",
    ":::\n",
    "\n",
    "::: {#exr-sum}\n",
    "## Erwartungswert und Varianz\n",
    "\n",
    "Benutzen Sie die \n",
    "Use the distributions of $X$ and $Y$ from @tbl-distr-x and @tbl-distr-y to compute the expected value and the variance of\n",
    "\n",
    "$$\n",
    "2X + 3Y + 1.\n",
    "$$\n",
    "\n",
    "Assume that $X$ and $Y$ are independent.\n",
    ":::\n",
    "\n",
    "::: solution\n",
    "$$\n",
    "E(2X + 3Y + 1) = \\\\\n",
    "Var(2X + 3Y + 1) = \n",
    "$$\n",
    ":::\n",
    "\n",
    "## Die gemeinsame Verteilung\n",
    "\n",
    "\n",
    "Die gemeinsame Wahrscheinlichkeitsmassenfunktion gibt die Wahrscheinlichkeit des *gleichzeitigen* Auftretens von $x$ und $y$ an. Zum Beispiel können Sie die Frage stellen: Was ist die Wahrscheinlichkeit von $x = 2$ *und* $y = 3$.\n",
    "\n",
    "Für zwei diskrete Zufallsvariablen ist es bequem, die PMF als eine Tabelle darzustellen. Der DataFrame `pxy` enthält eine Verteilung von $X$ und $Y$."
   ]
  },
  {
   "cell_type": "code",
   "execution_count": 22,
   "metadata": {},
   "outputs": [
    {
     "data": {
      "text/html": [
       "<div>\n",
       "<style scoped>\n",
       "    .dataframe tbody tr th:only-of-type {\n",
       "        vertical-align: middle;\n",
       "    }\n",
       "\n",
       "    .dataframe tbody tr th {\n",
       "        vertical-align: top;\n",
       "    }\n",
       "\n",
       "    .dataframe thead th {\n",
       "        text-align: right;\n",
       "    }\n",
       "</style>\n",
       "<table border=\"1\" class=\"dataframe\">\n",
       "  <thead>\n",
       "    <tr style=\"text-align: right;\">\n",
       "      <th></th>\n",
       "      <th>x</th>\n",
       "      <th>y</th>\n",
       "      <th>p</th>\n",
       "    </tr>\n",
       "  </thead>\n",
       "  <tbody>\n",
       "    <tr>\n",
       "      <th>0</th>\n",
       "      <td>0</td>\n",
       "      <td>2</td>\n",
       "      <td>0.241</td>\n",
       "    </tr>\n",
       "    <tr>\n",
       "      <th>1</th>\n",
       "      <td>0</td>\n",
       "      <td>3</td>\n",
       "      <td>0.009</td>\n",
       "    </tr>\n",
       "    <tr>\n",
       "      <th>2</th>\n",
       "      <td>1</td>\n",
       "      <td>2</td>\n",
       "      <td>0.089</td>\n",
       "    </tr>\n",
       "    <tr>\n",
       "      <th>3</th>\n",
       "      <td>1</td>\n",
       "      <td>3</td>\n",
       "      <td>0.006</td>\n",
       "    </tr>\n",
       "    <tr>\n",
       "      <th>4</th>\n",
       "      <td>2</td>\n",
       "      <td>2</td>\n",
       "      <td>0.229</td>\n",
       "    </tr>\n",
       "    <tr>\n",
       "      <th>5</th>\n",
       "      <td>2</td>\n",
       "      <td>3</td>\n",
       "      <td>0.043</td>\n",
       "    </tr>\n",
       "    <tr>\n",
       "      <th>6</th>\n",
       "      <td>3</td>\n",
       "      <td>2</td>\n",
       "      <td>0.201</td>\n",
       "    </tr>\n",
       "    <tr>\n",
       "      <th>7</th>\n",
       "      <td>3</td>\n",
       "      <td>3</td>\n",
       "      <td>0.182</td>\n",
       "    </tr>\n",
       "  </tbody>\n",
       "</table>\n",
       "</div>"
      ],
      "text/plain": [
       "   x  y      p\n",
       "0  0  2  0.241\n",
       "1  0  3  0.009\n",
       "2  1  2  0.089\n",
       "3  1  3  0.006\n",
       "4  2  2  0.229\n",
       "5  2  3  0.043\n",
       "6  3  2  0.201\n",
       "7  3  3  0.182"
      ]
     },
     "execution_count": 254,
     "metadata": {},
     "output_type": "execute_result"
    }
   ],
   "source": [
    "pxy"
   ]
  },
  {
   "cell_type": "markdown",
   "metadata": {},
   "source": [
    "Manchmal ist es allerdings einfacher, die gemeinsame Verteilung in einer Matrix zu visualisieren. Die Matrix wird als *Kreuztabelle* bezeichnet. Die Zeilen entsprechen den möglichen Werten von $X$ und die Spalten den möglichen Werten von $Y$. Die Zellen enthalten die Wahrscheinlichkeiten."
   ]
  },
  {
   "cell_type": "code",
   "execution_count": 23,
   "metadata": {},
   "outputs": [
    {
     "data": {
      "text/html": [
       "<div>\n",
       "<style scoped>\n",
       "    .dataframe tbody tr th:only-of-type {\n",
       "        vertical-align: middle;\n",
       "    }\n",
       "\n",
       "    .dataframe tbody tr th {\n",
       "        vertical-align: top;\n",
       "    }\n",
       "\n",
       "    .dataframe thead th {\n",
       "        text-align: right;\n",
       "    }\n",
       "</style>\n",
       "<table border=\"1\" class=\"dataframe\">\n",
       "  <thead>\n",
       "    <tr style=\"text-align: right;\">\n",
       "      <th>y</th>\n",
       "      <th>2</th>\n",
       "      <th>3</th>\n",
       "    </tr>\n",
       "    <tr>\n",
       "      <th>x</th>\n",
       "      <th></th>\n",
       "      <th></th>\n",
       "    </tr>\n",
       "  </thead>\n",
       "  <tbody>\n",
       "    <tr>\n",
       "      <th>0</th>\n",
       "      <td>0.241</td>\n",
       "      <td>0.009</td>\n",
       "    </tr>\n",
       "    <tr>\n",
       "      <th>1</th>\n",
       "      <td>0.089</td>\n",
       "      <td>0.006</td>\n",
       "    </tr>\n",
       "    <tr>\n",
       "      <th>2</th>\n",
       "      <td>0.229</td>\n",
       "      <td>0.043</td>\n",
       "    </tr>\n",
       "    <tr>\n",
       "      <th>3</th>\n",
       "      <td>0.201</td>\n",
       "      <td>0.182</td>\n",
       "    </tr>\n",
       "  </tbody>\n",
       "</table>\n",
       "</div>"
      ],
      "text/plain": [
       "y      2      3\n",
       "x              \n",
       "0  0.241  0.009\n",
       "1  0.089  0.006\n",
       "2  0.229  0.043\n",
       "3  0.201  0.182"
      ]
     },
     "execution_count": 255,
     "metadata": {},
     "output_type": "execute_result"
    }
   ],
   "source": [
    "#| label: tbl-distr-dep\n",
    "#| tbl-cap: \"Joint distribution of $X$ and $Y$.\"\n",
    "\n",
    "pxy.pivot(index = \"x\", columns = \"y\", values = \"p\")"
   ]
  },
  {
   "cell_type": "markdown",
   "metadata": {},
   "source": [
    "$$\n",
    "p_{XY}(x=2, y=3) = 0.043\n",
    "$$\n",
    "\n",
    "Wie in dem eindimensionalen Fall, müssen sich die Wahrscheinlichkeiten zu eins summieren.\n",
    "\n",
    "$$\n",
    "\\sum_{x = 0}^{3}\\sum_{y = 2}^{3} p_{XY}(x, y) = 1\n",
    "$$"
   ]
  },
  {
   "cell_type": "code",
   "execution_count": 24,
   "metadata": {},
   "outputs": [
    {
     "data": {
      "text/plain": [
       "1.0"
      ]
     },
     "execution_count": 256,
     "metadata": {},
     "output_type": "execute_result"
    }
   ],
   "source": [
    "np.sum(pxy[\"p\"])"
   ]
  },
  {
   "cell_type": "markdown",
   "metadata": {},
   "source": [
    "## Randverteilungen\n",
    "\n",
    "Aus der gemeinsamen PMF können wir die Randverteilungen von $X$ und $Y$ ableiten.\n",
    "\n",
    "$$\n",
    "p_X(x) = \\sum_{y} p_{XY}(x, y)\n",
    "$$"
   ]
  },
  {
   "cell_type": "code",
   "execution_count": 25,
   "metadata": {},
   "outputs": [
    {
     "data": {
      "text/plain": [
       "x\n",
       "0    0.250\n",
       "1    0.095\n",
       "2    0.272\n",
       "3    0.383\n",
       "Name: p, dtype: float64"
      ]
     },
     "execution_count": 257,
     "metadata": {},
     "output_type": "execute_result"
    }
   ],
   "source": [
    "pxy.groupby(\"x\")[\"p\"].sum()"
   ]
  },
  {
   "cell_type": "markdown",
   "metadata": {},
   "source": [
    ":::{#exr-marginal}\n",
    "## Randverteilungen\n",
    "\n",
    "Berechnen Sie die Randverteilungen von $X$ und $Y$ aus der gemeinsamen Verteilung $p_{XY}$.\n",
    ":::"
   ]
  },
  {
   "cell_type": "code",
   "execution_count": 26,
   "metadata": {},
   "outputs": [],
   "source": [
    "# pxy.groupby(...)[...].sum()"
   ]
  },
  {
   "cell_type": "markdown",
   "metadata": {},
   "source": [
    "\n",
    "## Bedingte Verteilungen"
   ]
  },
  {
   "cell_type": "code",
   "execution_count": 27,
   "metadata": {},
   "outputs": [
    {
     "data": {
      "text/html": [
       "<div>\n",
       "<style scoped>\n",
       "    .dataframe tbody tr th:only-of-type {\n",
       "        vertical-align: middle;\n",
       "    }\n",
       "\n",
       "    .dataframe tbody tr th {\n",
       "        vertical-align: top;\n",
       "    }\n",
       "\n",
       "    .dataframe thead th {\n",
       "        text-align: right;\n",
       "    }\n",
       "</style>\n",
       "<table border=\"1\" class=\"dataframe\">\n",
       "  <thead>\n",
       "    <tr style=\"text-align: right;\">\n",
       "      <th>y</th>\n",
       "      <th>2</th>\n",
       "      <th>3</th>\n",
       "    </tr>\n",
       "    <tr>\n",
       "      <th>x</th>\n",
       "      <th></th>\n",
       "      <th></th>\n",
       "    </tr>\n",
       "  </thead>\n",
       "  <tbody>\n",
       "    <tr>\n",
       "      <th>0</th>\n",
       "      <td>0.964000</td>\n",
       "      <td>0.036000</td>\n",
       "    </tr>\n",
       "    <tr>\n",
       "      <th>1</th>\n",
       "      <td>0.936842</td>\n",
       "      <td>0.063158</td>\n",
       "    </tr>\n",
       "    <tr>\n",
       "      <th>2</th>\n",
       "      <td>0.841912</td>\n",
       "      <td>0.158088</td>\n",
       "    </tr>\n",
       "    <tr>\n",
       "      <th>3</th>\n",
       "      <td>0.524804</td>\n",
       "      <td>0.475196</td>\n",
       "    </tr>\n",
       "  </tbody>\n",
       "</table>\n",
       "</div>"
      ],
      "text/plain": [
       "y         2         3\n",
       "x                    \n",
       "0  0.964000  0.036000\n",
       "1  0.936842  0.063158\n",
       "2  0.841912  0.158088\n",
       "3  0.524804  0.475196"
      ]
     },
     "execution_count": 259,
     "metadata": {},
     "output_type": "execute_result"
    }
   ],
   "source": [
    "#| label: tbl-cond-distr-y-dep-x\n",
    "#| tbl-cap: \"Conditional distributions of $Y$ given $X$\"\n",
    "#| code-fold: true\n",
    "\n",
    "pxy[\"p_y_given_x\"] = pxy[\"p\"] / pxy.groupby(\"x\")[\"p\"].transform(\"sum\")\n",
    "\n",
    "pxy.pivot(index = \"x\", columns = \"y\", values = \"p_y_given_x\")"
   ]
  },
  {
   "cell_type": "markdown",
   "metadata": {},
   "source": [
    "Die bedingte Verteilung von $Y$ gegeben $X$ ist die Wahrscheinlichkeitsverteilung von $Y$ unter der Bedingung, dass $X$ einen bestimmten Wert annimmt. Die bedingte Verteilung wird als $p_{Y|X}(y | x)$ geschrieben.\n",
    "\n",
    "## Unabhängigkeit\n",
    "\n",
    "Zwei Zufallsvariablen sind unabhängig, wenn das Ergebnis einer der Variablen die Wahrscheinlichkeitsverteilung der anderen nicht beeinflusst. Stellen Sie sich vor, Sie haben zwei Lottoscheine: einen von einer Lotterie in Deutschland und einen von einer Lotterie in Bulgarien. Es wäre sicher anzunehmen, dass die realisierten Gewinne der deutschen Lotterie die Gewinnchancen des bulgarischen Tickets nicht beeinflussen.\n",
    "\n",
    "Betrachten wir nun den Fall von *abhängigen* Zufallsvariablen. Sei $X$ der Pegel eines Flusses (an einer Messstelle) zur Zeit $t$ und $Y$ der Pegel des gleichen Flusses fünf Minuten später. Es wäre sicher anzunehmen, dass wenn der Pegel des Flusses bei $t$ hoch war, dies die Verteilung des Niveaus des Flusses bei $t$ plus fünf Minuten beeinflussen würde.\n",
    "\n",
    ":::{#def-independence}\n",
    "## Unabhängigkeit\n",
    "\n",
    "Zwei Zufallsvariablen $X$ und $Y$ sind unabhängig, wenn die gemeinsame PMF gleich dem Produkt der Randverteilungen ist.\n",
    "\n",
    "$$\n",
    "p_{XY}(x, y) = p_X(x)p_Y(y)\n",
    "$$\n",
    "\n",
    "\n",
    ":::\n",
    "\n",
    "### Bedingte Verteilungen unter Unabhängigkeit\n",
    "\n",
    "Wir können die gemeinsame Verteilung $p_{XY}(x, y)$ unter der Annahme der Unabhängigkeit von $X$ und $Y$ konstruieren, indem Wir für jede mögliche Kombination von $X$ und $Y$ das Produkt der Randverteilungen berechnen.\n",
    "\n",
    "$$\n",
    "p_{XY}(x, y) = p_X(x)p_Y(y)\n",
    "$$"
   ]
  },
  {
   "cell_type": "code",
   "execution_count": 28,
   "metadata": {},
   "outputs": [
    {
     "data": {
      "text/html": [
       "<div>\n",
       "<style scoped>\n",
       "    .dataframe tbody tr th:only-of-type {\n",
       "        vertical-align: middle;\n",
       "    }\n",
       "\n",
       "    .dataframe tbody tr th {\n",
       "        vertical-align: top;\n",
       "    }\n",
       "\n",
       "    .dataframe thead th {\n",
       "        text-align: right;\n",
       "    }\n",
       "</style>\n",
       "<table border=\"1\" class=\"dataframe\">\n",
       "  <thead>\n",
       "    <tr style=\"text-align: right;\">\n",
       "      <th>y</th>\n",
       "      <th>2</th>\n",
       "      <th>3</th>\n",
       "    </tr>\n",
       "    <tr>\n",
       "      <th>x</th>\n",
       "      <th></th>\n",
       "      <th></th>\n",
       "    </tr>\n",
       "  </thead>\n",
       "  <tbody>\n",
       "    <tr>\n",
       "      <th>0</th>\n",
       "      <td>0.19000</td>\n",
       "      <td>0.06000</td>\n",
       "    </tr>\n",
       "    <tr>\n",
       "      <th>1</th>\n",
       "      <td>0.07220</td>\n",
       "      <td>0.02280</td>\n",
       "    </tr>\n",
       "    <tr>\n",
       "      <th>2</th>\n",
       "      <td>0.20672</td>\n",
       "      <td>0.06528</td>\n",
       "    </tr>\n",
       "    <tr>\n",
       "      <th>3</th>\n",
       "      <td>0.29108</td>\n",
       "      <td>0.09192</td>\n",
       "    </tr>\n",
       "  </tbody>\n",
       "</table>\n",
       "</div>"
      ],
      "text/plain": [
       "y        2        3\n",
       "x                  \n",
       "0  0.19000  0.06000\n",
       "1  0.07220  0.02280\n",
       "2  0.20672  0.06528\n",
       "3  0.29108  0.09192"
      ]
     },
     "execution_count": 260,
     "metadata": {},
     "output_type": "execute_result"
    }
   ],
   "source": [
    "#| code-fold: true\n",
    "\n",
    "pxy['p_x'] = pxy.groupby('x')['p'].transform('sum')\n",
    "pxy['p_y'] = pxy.groupby('y')['p'].transform('sum')\n",
    "\n",
    "pxy['p_xy_ind'] = pxy['p_x'] * pxy['p_y']\n",
    "\n",
    "pxy.pivot(index = \"x\", columns = \"y\", values = \"p_xy_ind\")"
   ]
  },
  {
   "cell_type": "markdown",
   "metadata": {},
   "source": [
    "Nun schauen wir uns die bedingte Verteilung von $Y$ gegeben $X$ an. Die bedingte Verteilung von $Y$ gegeben $X$ unter der Annahme der Unabhängigkeit ist gleich der Randverteilung von $Y$."
   ]
  },
  {
   "cell_type": "code",
   "execution_count": 29,
   "metadata": {},
   "outputs": [
    {
     "data": {
      "text/html": [
       "<div>\n",
       "<style scoped>\n",
       "    .dataframe tbody tr th:only-of-type {\n",
       "        vertical-align: middle;\n",
       "    }\n",
       "\n",
       "    .dataframe tbody tr th {\n",
       "        vertical-align: top;\n",
       "    }\n",
       "\n",
       "    .dataframe thead th {\n",
       "        text-align: right;\n",
       "    }\n",
       "</style>\n",
       "<table border=\"1\" class=\"dataframe\">\n",
       "  <thead>\n",
       "    <tr style=\"text-align: right;\">\n",
       "      <th>y</th>\n",
       "      <th>2</th>\n",
       "      <th>3</th>\n",
       "    </tr>\n",
       "    <tr>\n",
       "      <th>x</th>\n",
       "      <th></th>\n",
       "      <th></th>\n",
       "    </tr>\n",
       "  </thead>\n",
       "  <tbody>\n",
       "    <tr>\n",
       "      <th>0</th>\n",
       "      <td>0.76</td>\n",
       "      <td>0.24</td>\n",
       "    </tr>\n",
       "    <tr>\n",
       "      <th>1</th>\n",
       "      <td>0.76</td>\n",
       "      <td>0.24</td>\n",
       "    </tr>\n",
       "    <tr>\n",
       "      <th>2</th>\n",
       "      <td>0.76</td>\n",
       "      <td>0.24</td>\n",
       "    </tr>\n",
       "    <tr>\n",
       "      <th>3</th>\n",
       "      <td>0.76</td>\n",
       "      <td>0.24</td>\n",
       "    </tr>\n",
       "  </tbody>\n",
       "</table>\n",
       "</div>"
      ],
      "text/plain": [
       "y     2     3\n",
       "x            \n",
       "0  0.76  0.24\n",
       "1  0.76  0.24\n",
       "2  0.76  0.24\n",
       "3  0.76  0.24"
      ]
     },
     "execution_count": 261,
     "metadata": {},
     "output_type": "execute_result"
    }
   ],
   "source": [
    "#| label: tbl-distr-indep\n",
    "#| tbl-cap: \"Joint distribution of $X$ and $Y$ under independence.\"\n",
    "#| code-fold: true\n",
    "\n",
    "pxy[\"p_y_given_x_ind\"] = pxy[\"p_xy_ind\"] / pxy.groupby(\"x\")[\"p_xy_ind\"].transform(\"sum\")\n",
    "pxy.pivot(index = \"x\", columns = \"y\", values = \"p_y_given_x_ind\")"
   ]
  },
  {
   "cell_type": "markdown",
   "metadata": {},
   "source": [
    "## Der bedingte Erwartungswert\n",
    "\n",
    "Wir haben gesehen, wie wir die bedingten Verteilungen von $Y$ gegeben $X$ im vorherigen Abschnitt hergeleitet haben. Nun können wir die Frage stellen: Was ist der Erwartungswert von $Y$, wenn $X$ bereits den Wert 0 angenommen hat (zum Beispiel). Wir können die bedingte Verteilung von $Y$ gegeben $X = 0$ nehmen und den Erwartungswert dieser Verteilung berechnen.\n",
    "\n",
    "Für die unabhängige gemeinsame Verteilung in @tbl-distr-indep ist der bedingte Erwartungswert von $Y$ gegeben $X = 0$:\n",
    "\n",
    "$$\n",
    "E(Y | X=0) = \\sum_{y = 2}^{3} y p_{Y|X=0}(y) = 2 \\times 0.76 + 3 \\times 0.24 = 2.24\n",
    "$$\n",
    "\n",
    "Für die abhängige gemeinsame Verteilung in @tbl-distr-dep ist der bedingte Erwartungswert von $Y$ gegeben $X = 0$:\n",
    "\n",
    "$$\n",
    "E(Y | X=0) = \\sum_{y = 2}^{3} y p_{Y|X=0}(y) = 2 \\times 0.964 + 3 \\times 0.036 = 2.036\n",
    "$$\n",
    "\n",
    "```{r}\n",
    "2 * 0.964 + 3 * 0.036\n",
    "```\n",
    "\n",
    "Wir können den bedingten Erwartungswert von $Y$ für jeden möglichen Wert von $X$ berechnen.\n",
    "\n",
    "$$\n",
    "E(Y | X = x) = \\begin{cases}\n",
    "  2.036 & \\text{for } x = 0 \\\\\n",
    "  2.060 & \\text{for } x = 1 \\\\\n",
    "  2.158 & \\text{for } x = 2 \\\\\n",
    "  2.475 & \\text{for } x = 3\n",
    "\\end{cases}\n",
    "$$"
   ]
  },
  {
   "cell_type": "code",
   "execution_count": 30,
   "metadata": {},
   "outputs": [
    {
     "data": {
      "text/plain": [
       "x\n",
       "0    2.24\n",
       "1    2.24\n",
       "2    2.24\n",
       "3    2.24\n",
       "dtype: float64"
      ]
     },
     "execution_count": 262,
     "metadata": {},
     "output_type": "execute_result"
    }
   ],
   "source": [
    "#| label: tbl-cond-exp-y-ind\n",
    "#| tbl-cap: \"Bedingte Erwartungswerte von $Y$ für alle mögliche Werte von $X$ unter Unabhängigkeit.\"\n",
    "#| code-fold: true\n",
    "\n",
    "pxy.groupby(\"x\").apply(lambda x: np.sum(x[\"p_y_given_x_ind\"] * x[\"y\"]))"
   ]
  },
  {
   "cell_type": "code",
   "execution_count": 31,
   "metadata": {},
   "outputs": [
    {
     "data": {
      "text/plain": [
       "x\n",
       "0    2.036000\n",
       "1    2.063158\n",
       "2    2.158088\n",
       "3    2.475196\n",
       "dtype: float64"
      ]
     },
     "execution_count": 263,
     "metadata": {},
     "output_type": "execute_result"
    }
   ],
   "source": [
    "#| label: tbl-cond-exp-y\n",
    "#| tbl-cap: \"Bedingte Erwartungswerte von $Y$ für alle mögliche Werte von $X$ unter Abhängigkeit.\"\n",
    "#| code-fold: true\n",
    "\n",
    "pxy.groupby(\"x\").apply(lambda x: np.sum(x[\"p_y_given_x\"] * x[\"y\"]))"
   ]
  },
  {
   "cell_type": "markdown",
   "metadata": {},
   "source": [
    "Im Fall der abhängigen Variablen ist der bedingte Erwartungswert von $Y$ gegeben $X$ nicht konstant, sondern variiert mit $X$."
   ]
  }
 ],
 "metadata": {
  "kernelspec": {
   "display_name": "econ2024",
   "language": "python",
   "name": "python3"
  },
  "language_info": {
   "codemirror_mode": {
    "name": "ipython",
    "version": 3
   },
   "file_extension": ".py",
   "mimetype": "text/x-python",
   "name": "python",
   "nbconvert_exporter": "python",
   "pygments_lexer": "ipython3",
   "version": "3.11.7"
  }
 },
 "nbformat": 4,
 "nbformat_minor": 2
}
