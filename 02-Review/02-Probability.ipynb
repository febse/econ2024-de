{
 "cells": [
  {
   "cell_type": "code",
   "execution_count": 2,
   "metadata": {},
   "outputs": [],
   "source": [
    "#| echo: false\n",
    "\n",
    "import matplotlib.pyplot as plt\n",
    "import pandas as pd\n",
    "import numpy as np\n",
    "import seaborn as sns"
   ]
  },
  {
   "cell_type": "markdown",
   "metadata": {},
   "source": [
    "# Simulation eines Zufallsspiels\n",
    "\n",
    "Wir schauen uns zwei Spiele an. Im Spiel `X` können wir nichts (0 EUR), 1 EUR oder 2 EUR gewinnen. Im Spiel `Y` können wir nichts (0 EUR), 3 EUR oder 4 EUR gewinnen. Jedes Mal, das wir eins der Spiele spielen, wird ein Ergebnis eintreten (wir erhalten 0, 1, oder 2 EUR). Es ist wichtig zu beachten, dass wir das Ergebnis des Spieles vor dem eigentlichen Spielen _nicht_ kennen.\n",
    "\n",
    "Im Folgenden werden wir die Spiele `X` und `Y` mittels Zufallszahlen simulieren."
   ]
  },
  {
   "cell_type": "code",
   "execution_count": 3,
   "metadata": {},
   "outputs": [
    {
     "data": {
      "text/plain": [
       "(1000,)"
      ]
     },
     "execution_count": 3,
     "metadata": {},
     "output_type": "execute_result"
    }
   ],
   "source": [
    "np.random.seed(432)\n",
    "\n",
    "# Wir spielen 1000 Mal das Spiel X\n",
    "x = np.random.choice([0, 1, 2], size=1000, p = [0.5, 0.3, 0.2])\n",
    "x.shape\n"
   ]
  },
  {
   "cell_type": "code",
   "execution_count": 4,
   "metadata": {},
   "outputs": [
    {
     "data": {
      "text/plain": [
       "(1000,)"
      ]
     },
     "execution_count": 4,
     "metadata": {},
     "output_type": "execute_result"
    }
   ],
   "source": [
    "np.random.seed(434)\n",
    "\n",
    "# Wir Spielen 1000 Mal das Spiel Y und speichern die Ergebnisse\n",
    "# in y\n",
    "y = np.random.choice([0, 1, 2], size=1000, p=[0.5, 0.1, 0.4])\n",
    "y.shape"
   ]
  },
  {
   "cell_type": "code",
   "execution_count": 5,
   "metadata": {},
   "outputs": [
    {
     "data": {
      "text/plain": [
       "(array([0, 1, 2]), array([492, 289, 219]))"
      ]
     },
     "execution_count": 5,
     "metadata": {},
     "output_type": "execute_result"
    }
   ],
   "source": [
    "# Nun lasst uns die Spielergebnisse zählen\n",
    "x_freqs = np.unique(x, return_counts=True)\n",
    "x_freqs"
   ]
  },
  {
   "cell_type": "code",
   "execution_count": 6,
   "metadata": {},
   "outputs": [
    {
     "data": {
      "text/plain": [
       "(array([0, 1, 2]), array([509,  73, 418]))"
      ]
     },
     "execution_count": 6,
     "metadata": {},
     "output_type": "execute_result"
    }
   ],
   "source": [
    "y_freqs = np.unique(y, return_counts=True)\n",
    "y_freqs"
   ]
  },
  {
   "cell_type": "code",
   "execution_count": 7,
   "metadata": {},
   "outputs": [
    {
     "data": {
      "text/plain": [
       "Text(0.5, 1.0, 'Spiel Y')"
      ]
     },
     "execution_count": 7,
     "metadata": {},
     "output_type": "execute_result"
    },
    {
     "data": {
      "image/png": "[encoded data removed]",
      "text/plain": [
       "<Figure size 640x480 with 2 Axes>"
      ]
     },
     "metadata": {},
     "output_type": "display_data"
    }
   ],
   "source": [
    "fig, (ax1, ax2) = plt.subplots(nrows=1, ncols=2)\n",
    "\n",
    "sns.barplot(x=x_freqs[0], y = x_freqs[1], ax=ax1)\n",
    "sns.barplot(x=y_freqs[0], y=y_freqs[1], ax=ax2)\n",
    "\n",
    "ax1.set_title('Spiel X')\n",
    "ax2.set_title('Spiel Y')"
   ]
  },
  {
   "cell_type": "code",
   "execution_count": 8,
   "metadata": {},
   "outputs": [
    {
     "data": {
      "text/html": [
       "<div>\n",
       "<style scoped>\n",
       "    .dataframe tbody tr th:only-of-type {\n",
       "        vertical-align: middle;\n",
       "    }\n",
       "\n",
       "    .dataframe tbody tr th {\n",
       "        vertical-align: top;\n",
       "    }\n",
       "\n",
       "    .dataframe thead th {\n",
       "        text-align: right;\n",
       "    }\n",
       "</style>\n",
       "<table border=\"1\" class=\"dataframe\">\n",
       "  <thead>\n",
       "    <tr style=\"text-align: right;\">\n",
       "      <th></th>\n",
       "      <th>x</th>\n",
       "      <th>p_x</th>\n",
       "      <th>y</th>\n",
       "      <th>p_y</th>\n",
       "    </tr>\n",
       "  </thead>\n",
       "  <tbody>\n",
       "    <tr>\n",
       "      <th>0</th>\n",
       "      <td>0</td>\n",
       "      <td>0.5</td>\n",
       "      <td>0</td>\n",
       "      <td>0.5</td>\n",
       "    </tr>\n",
       "    <tr>\n",
       "      <th>1</th>\n",
       "      <td>1</td>\n",
       "      <td>0.3</td>\n",
       "      <td>1</td>\n",
       "      <td>0.1</td>\n",
       "    </tr>\n",
       "    <tr>\n",
       "      <th>2</th>\n",
       "      <td>2</td>\n",
       "      <td>0.2</td>\n",
       "      <td>2</td>\n",
       "      <td>0.4</td>\n",
       "    </tr>\n",
       "  </tbody>\n",
       "</table>\n",
       "</div>"
      ],
      "text/plain": [
       "   x  p_x  y  p_y\n",
       "0  0  0.5  0  0.5\n",
       "1  1  0.3  1  0.1\n",
       "2  2  0.2  2  0.4"
      ]
     },
     "execution_count": 8,
     "metadata": {},
     "output_type": "execute_result"
    }
   ],
   "source": [
    "#| label: tbl-games\n",
    "#| tbl-cap: Outcomes and probabilities\n",
    "\n",
    "games = pd.DataFrame({\n",
    "    'x': [0, 1, 2],\n",
    "    \"p_x\": [0.5, 0.3, 0.2],\n",
    "    'y': [0, 1, 2],\n",
    "    \"p_y\": [0.5, 0.1, 0.4]\n",
    "})\n",
    "\n",
    "# # games.style.hide_index()\n",
    "# from IPython.display import Markdown\n",
    "# Markdown(games.to_markdown(index=False))\n",
    "\n",
    "games\n"
   ]
  },
  {
   "cell_type": "markdown",
   "metadata": {},
   "source": [
    "## Der Erwartungswert\n",
    "\n",
    "Die Wahrscheinlichkeiten in der Tabelle oben beschreiben die *Regeln* der beiden Spiele. Aus Ihnen können wir zwar schwer vorhersagen, was das Ergebnis im nächsten Spiel sein wird, allerdings können wir eine große Anzahl von Spielen beschreiben.\n",
    "\n",
    "Die Funktion, die jedes Ergebnis einer Zahl zwischen 0 und 1 zuordnet nennen wir eine Warhscheinlichkeitsfunktion. Die Tabelle oben können wir \n",
    "als Wahrscheinlichkeitsfunktionen für die Spiele `X` und `Y` schreiben.\n",
    "\n",
    "$$\n",
    "f_X(x) = \\begin{cases}\n",
    "0.5 & \\text{für } x = 0 \\\\\n",
    "0.3 & \\text{für } x = 1 \\\\\n",
    "0.2 & \\text{für } x = 2 \\\\\n",
    "\\end{cases}\n",
    "$$\n",
    "\n",
    "$$\n",
    "f_Y(x) = \\begin{cases}\n",
    "0.5 & \\text{für } x = 0 \\\\\n",
    "0.1 & \\text{für } x = 3 \\\\\n",
    "0.4 & \\text{für } x = 4 \\\\\n",
    "\\end{cases}\n",
    "$$\n",
    "\n",
    "Sehr häufig möchten wir diese Funktionen zusammenfassen. Zum Beispiel, aus Sicht des Spielveranstalters müssen wir entscheiden, welchen Preis für ein Spielticket zu setzen. Um das machen zu können müssen wir wissen wie viel wir im  Durchschnitt zahlen werden müssen, falls wir eine große Anzahl von Tickets verkaufen.\n",
    "\n",
    "In der Simulation oben haben wir gesehen, daß im Spiel `X` die Wahrscheinlichkeiten (0.5, 0.3, 0.2) bedeuten, daß aus 1000 Spielen ungefähr \n",
    "500 Tickets keinen Gewinn bringen. Für ungefähr 300 Tickets werden wir 1 EUR zahlen müssen und für ungefähr 200 Tickets werden wir 2 EUR zahlen müssen.\n",
    "\n",
    "Insgesamt werden wir ungefähr\n",
    "\n",
    "$$\n",
    "500 \\times 0 + 300 \\times 1 + 200 \\times 2 = 700\n",
    "$$\n",
    "\n",
    "Euro zahlen müssen. Wenn wir die Gesamtzahlung durch die Anzahl der verkauften Tickets dividieren, erhalten wir die durchschnittliche Zahlung pro Ticket, die wir leisten müssen.\n",
    "\n",
    "$$\n",
    "\\frac{700}{1000} = 0.7\n",
    "$$\n",
    "\n",
    "Diese Zahl ist der **Erwartungswert** des Spieles `X`. Anders geschrieben:\n",
    "\n",
    "$$\n",
    "\\begin{align*}\n",
    "\\frac{500 \\times 0 + 300 \\times 1 + 200 \\times 2}{1000} =  \\\\\n",
    "0 \\times \\frac{500}{1000} + 1 \\times \\frac{300}{1000} + 2 \\times \\frac{200}{1000} = \\\\\n",
    "0 \\times 0.5 + 1 \\times 0.3 + 2 \\times 0.2 = \\\\\n",
    "\\end{align*}\n",
    "$$\n",
    "\n",
    ":::{#def-expected-value}\n",
    "## Erwartungswert\n",
    "\n",
    "Formal ist der Erwartungswert die gewichtete Summe der möglichen Ergebnisse. Für eine Zufallsvariable $X$ mit den möglichen Ergebnissen $x_1, x_2, \\ldots, x_n$ und den Wahrscheinlichkeiten $p_1, p_2, \\ldots, p_n$ ist der Erwartungswert\n",
    "\n",
    "$$\n",
    "E(X) = x_1 \\cdot p_1 + x_2 \\cdot p_2 + \\ldots + x_n \\cdot p_n = \\sum_{i=1}^n x_i \\cdot p_i\n",
    "$$\n",
    "\n",
    ":::"
   ]
  },
  {
   "cell_type": "code",
   "execution_count": 9,
   "metadata": {},
   "outputs": [
    {
     "data": {
      "text/plain": [
       "0.7"
      ]
     },
     "execution_count": 9,
     "metadata": {},
     "output_type": "execute_result"
    }
   ],
   "source": [
    "# Der Erwartungswert von X\n",
    "\n",
    "E_X = np.sum(games[\"x\"] * games[\"p_x\"])\n",
    "E_X"
   ]
  },
  {
   "cell_type": "code",
   "execution_count": 10,
   "metadata": {},
   "outputs": [
    {
     "data": {
      "text/plain": [
       "0.9"
      ]
     },
     "execution_count": 10,
     "metadata": {},
     "output_type": "execute_result"
    }
   ],
   "source": [
    "E_Y = np.sum(games[\"y\"] * games[\"p_y\"])\n",
    "E_Y"
   ]
  },
  {
   "cell_type": "markdown",
   "metadata": {},
   "source": [
    "Vergleichen wir diese Erwartungswerte mit den beobachteten Mittelwerten in den Simulationen"
   ]
  },
  {
   "cell_type": "code",
   "execution_count": 11,
   "metadata": {},
   "outputs": [
    {
     "data": {
      "text/plain": [
       "0.727"
      ]
     },
     "execution_count": 11,
     "metadata": {},
     "output_type": "execute_result"
    }
   ],
   "source": [
    "np.mean(x)"
   ]
  },
  {
   "cell_type": "code",
   "execution_count": 12,
   "metadata": {},
   "outputs": [
    {
     "data": {
      "text/plain": [
       "0.909"
      ]
     },
     "execution_count": 12,
     "metadata": {},
     "output_type": "execute_result"
    }
   ],
   "source": [
    "np.mean(y)"
   ]
  },
  {
   "cell_type": "markdown",
   "metadata": {},
   "source": [
    "Wir können die Verteilung der Gewinne in einem Balkendiagramm darstellen."
   ]
  },
  {
   "cell_type": "code",
   "execution_count": 13,
   "metadata": {},
   "outputs": [
    {
     "data": {
      "text/plain": [
       "Text(0, 0.5, 'Wahrscheinlichkeit')"
      ]
     },
     "execution_count": 13,
     "metadata": {},
     "output_type": "execute_result"
    },
    {
     "data": {
      "image/png": "[encoded data removed]",
      "text/plain": [
       "<Figure size 1000x500 with 2 Axes>"
      ]
     },
     "metadata": {},
     "output_type": "display_data"
    }
   ],
   "source": [
    "fig, ax = plt.subplots(nrows=1, ncols=2, figsize=(10, 5))\n",
    "\n",
    "sns.barplot(data=games, x=\"x\", y=\"p_x\", color='blue', ax = ax[0])\n",
    "ax[0].set_title('Wahrscheinlichkeiten von Spiel X')\n",
    "ax[0].set_xlabel('x')\n",
    "ax[0].set_ylabel('Wahrscheinlichkeit')\n",
    "\n",
    "sns.barplot(data=games, x=\"y\", y=\"p_y\", color='red', ax = ax[1])\n",
    "ax[1].set_title('Wahrscheinlichkeiten von Spiel Y')\n",
    "ax[1].set_xlabel('y')\n",
    "ax[1].set_ylabel('Wahrscheinlichkeit')\n"
   ]
  },
  {
   "cell_type": "markdown",
   "metadata": {},
   "source": [
    "## Die Varianz\n",
    "\n",
    "Die Varianz ist ein Maß für die Streuung von Werten. Wir haben in der deskriptiven Statistik die empirische Varianz kennengelernt. Die empirische Varianz ist ein Maß für die Streuung von Werten um den Mittelwert. Die Varianz einer Verteilung (Zufallsvariable) ist ein Maß für die Streuung der Werte, die diese Verteilung produzieren wird (wenn wir das Spiel spielen).\n",
    "\n",
    ":::{#def-variance}\n",
    "\n",
    "## Varianz\n",
    "\n",
    "Die Varianz einer Zufallsvariable $X$ mit den möglichen Ergebnissen $x_1, x_2, \\ldots, x_n$ und den Wahrscheinlichkeiten $p_1, p_2, \\ldots, p_n$ ist\n",
    "\n",
    "$$\n",
    "\\text{Var}(X) = E\\left((X - E(X))^2\\right) = \\sum_{i=1}^n (x_i - E(X))^2 \\cdot p_i\n",
    "$$\n",
    "\n",
    ":::"
   ]
  },
  {
   "cell_type": "code",
   "execution_count": 14,
   "metadata": {},
   "outputs": [
    {
     "data": {
      "text/plain": [
       "0.6100000000000001"
      ]
     },
     "execution_count": 14,
     "metadata": {},
     "output_type": "execute_result"
    }
   ],
   "source": [
    "# Lasst uns die Varianz von X berechnen\n",
    "\n",
    "# Den Erwartungswert von X haben wir bereits berechnet und unter E_X gespeichert\n",
    "\n",
    "# Für die Varianz von X berechnen wir Differenz der möglichen Ergebnisse von X\n",
    "# zum Erwartungswert\n",
    "\n",
    "x_diff_erwartungswert = games[\"x\"] - E_X\n",
    "\n",
    "# Danach quadrieren wir die Differenzen\n",
    "x_diff_erwartungswert_squared = x_diff_erwartungswert ** 2\n",
    "\n",
    "# Am ende multiplizieren wir die quadrierten Differenzen mit den Wahrscheinlichkeiten für X=0, X=1 und X=2\n",
    "\n",
    "var_X = np.sum(x_diff_erwartungswert_squared * games[\"p_x\"])\n",
    "var_X"
   ]
  },
  {
   "cell_type": "code",
   "execution_count": 15,
   "metadata": {},
   "outputs": [
    {
     "data": {
      "text/plain": [
       "0.8900000000000001"
      ]
     },
     "execution_count": 15,
     "metadata": {},
     "output_type": "execute_result"
    }
   ],
   "source": [
    "# Das gleiche können wir für Y machen, diesmal ohne die Zwischenschritte\n",
    "\n",
    "var_Y = np.sum(games[\"p_y\"] * (games[\"y\"] - E_Y) ** 2)\n",
    "var_Y"
   ]
  },
  {
   "cell_type": "markdown",
   "metadata": {},
   "source": [
    "Die Varianz von Y ist größer als die Varianz von X. Das bedeutet, daß die Werte, die Y produziert, weiter von ihrem Erwartungswert entfernt sein werden als die Werte, die X produziert."
   ]
  },
  {
   "cell_type": "code",
   "execution_count": 16,
   "metadata": {},
   "outputs": [
    {
     "ename": "TypeError",
     "evalue": "array() takes from 1 to 2 positional arguments but 3 were given",
     "output_type": "error",
     "traceback": [
      "\u001b[0;31m---------------------------------------------------------------------------\u001b[0m",
      "\u001b[0;31mTypeError\u001b[0m                                 Traceback (most recent call last)",
      "Cell \u001b[0;32mIn[16], line 13\u001b[0m\n\u001b[1;32m     10\u001b[0m rv \u001b[38;5;241m=\u001b[39m multivariate_normal(mean, cov)\n\u001b[1;32m     12\u001b[0m \u001b[38;5;66;03m# Define the intervals\u001b[39;00m\n\u001b[0;32m---> 13\u001b[0m x \u001b[38;5;241m=\u001b[39m \u001b[43mnp\u001b[49m\u001b[38;5;241;43m.\u001b[39;49m\u001b[43marray\u001b[49m\u001b[43m(\u001b[49m\u001b[38;5;241;43m-\u001b[39;49m\u001b[38;5;241;43m1\u001b[39;49m\u001b[43m,\u001b[49m\u001b[43m \u001b[49m\u001b[38;5;241;43m0\u001b[39;49m\u001b[43m,\u001b[49m\u001b[43m \u001b[49m\u001b[38;5;241;43m1\u001b[39;49m\u001b[43m)\u001b[49m\n\u001b[1;32m     14\u001b[0m y \u001b[38;5;241m=\u001b[39m np\u001b[38;5;241m.\u001b[39marray(\u001b[38;5;241m-\u001b[39m\u001b[38;5;241m1\u001b[39m, \u001b[38;5;241m0\u001b[39m, \u001b[38;5;241m1\u001b[39m)\n",
      "\u001b[0;31mTypeError\u001b[0m: array() takes from 1 to 2 positional arguments but 3 were given"
     ]
    }
   ],
   "source": [
    "# Discretized bivariate normal distribution\n",
    "import numpy as np\n",
    "from scipy.stats import multivariate_normal\n",
    "\n",
    "# Define the mean and covariance matrix for the bivariate normal distribution\n",
    "mean = np.array([0, 0])\n",
    "cov = np.array([[1, 0], [0, 1]])\n",
    "\n",
    "# Define the bivariate normal distribution\n",
    "rv = multivariate_normal(mean, cov)\n",
    "\n",
    "# Define the intervals\n",
    "x = np.array(-1, 0, 1)\n",
    "y = np.array(-1, 0, 1)\n"
   ]
  },
  {
   "cell_type": "markdown",
   "metadata": {},
   "source": [
    "## Die gemeinsame Verteilung\n",
    "\n",
    "Bisher haben wir uns nur mit einer Zufallsvariablen beschäftigt. Stellen wir uns vor, daß wir ein Spiel spielen, das zwei Ergebnisse produziert. Zum Beispiel können wir zwei Münzen werfen. Die Ergebnisse können sein: (Kopf, Kopf), (Kopf, Zahl), (Zahl, Kopf), (Zahl, Zahl). Oder aber wir spielen die Spiele `X` und `Y` und die Ergebnisse können sein (0, 0), (0, 3), (0, 4), (1, 0), (1, 3), (1, 4), (2, 0), (2, 3), (2, 4). Genau wir im ein-dimensionalen Fall können wir die Wahrscheinlichkeiten der Ergebnisse in einer Tabelle zusammenfassen.\n",
    "\n",
    "Um ein Beispiel zu geben, werden wir Wahrscheinlichkeiten für dieses Spiel ausdenken."
   ]
  },
  {
   "cell_type": "code",
   "execution_count": 26,
   "metadata": {},
   "outputs": [
    {
     "data": {
      "text/html": [
       "<div>\n",
       "<style scoped>\n",
       "    .dataframe tbody tr th:only-of-type {\n",
       "        vertical-align: middle;\n",
       "    }\n",
       "\n",
       "    .dataframe tbody tr th {\n",
       "        vertical-align: top;\n",
       "    }\n",
       "\n",
       "    .dataframe thead th {\n",
       "        text-align: right;\n",
       "    }\n",
       "</style>\n",
       "<table border=\"1\" class=\"dataframe\">\n",
       "  <thead>\n",
       "    <tr style=\"text-align: right;\">\n",
       "      <th></th>\n",
       "      <th>x</th>\n",
       "      <th>y</th>\n",
       "      <th>p_xy</th>\n",
       "    </tr>\n",
       "  </thead>\n",
       "  <tbody>\n",
       "    <tr>\n",
       "      <th>0</th>\n",
       "      <td>0</td>\n",
       "      <td>0</td>\n",
       "      <td>0.198694</td>\n",
       "    </tr>\n",
       "    <tr>\n",
       "      <th>1</th>\n",
       "      <td>0</td>\n",
       "      <td>1</td>\n",
       "      <td>0.068238</td>\n",
       "    </tr>\n",
       "    <tr>\n",
       "      <th>2</th>\n",
       "      <td>0</td>\n",
       "      <td>2</td>\n",
       "      <td>0.132942</td>\n",
       "    </tr>\n",
       "    <tr>\n",
       "      <th>3</th>\n",
       "      <td>1</td>\n",
       "      <td>0</td>\n",
       "      <td>0.080278</td>\n",
       "    </tr>\n",
       "    <tr>\n",
       "      <th>4</th>\n",
       "      <td>1</td>\n",
       "      <td>1</td>\n",
       "      <td>0.008387</td>\n",
       "    </tr>\n",
       "    <tr>\n",
       "      <th>5</th>\n",
       "      <td>1</td>\n",
       "      <td>2</td>\n",
       "      <td>0.278337</td>\n",
       "    </tr>\n",
       "    <tr>\n",
       "      <th>6</th>\n",
       "      <td>2</td>\n",
       "      <td>0</td>\n",
       "      <td>0.095935</td>\n",
       "    </tr>\n",
       "    <tr>\n",
       "      <th>7</th>\n",
       "      <td>2</td>\n",
       "      <td>1</td>\n",
       "      <td>0.051734</td>\n",
       "    </tr>\n",
       "    <tr>\n",
       "      <th>8</th>\n",
       "      <td>2</td>\n",
       "      <td>2</td>\n",
       "      <td>0.085454</td>\n",
       "    </tr>\n",
       "  </tbody>\n",
       "</table>\n",
       "</div>"
      ],
      "text/plain": [
       "   x  y      p_xy\n",
       "0  0  0  0.198694\n",
       "1  0  1  0.068238\n",
       "2  0  2  0.132942\n",
       "3  1  0  0.080278\n",
       "4  1  1  0.008387\n",
       "5  1  2  0.278337\n",
       "6  2  0  0.095935\n",
       "7  2  1  0.051734\n",
       "8  2  2  0.085454"
      ]
     },
     "execution_count": 26,
     "metadata": {},
     "output_type": "execute_result"
    }
   ],
   "source": [
    "import itertools\n",
    "np.random.seed(322)\n",
    "\n",
    "# Wir erzeugen 9 Zufallszahlen\n",
    "joint_probs = np.random.rand(9)\n",
    "\n",
    "games2 = pd.DataFrame(itertools.product([0, 1, 2], [0, 1, 2]), columns=[\"x\", \"y\"])\n",
    "# Damit diese Zufallszahlen die Bedingungen einer Wahrscheinlichkeitsverteilung erfüllen,\n",
    "# müssen sie normiert werden, damit sie sich zu 1 summieren\n",
    "\n",
    "games2[\"p_xy\"] =  joint_probs / joint_probs.sum()\n",
    "games2"
   ]
  },
  {
   "cell_type": "markdown",
   "metadata": {},
   "source": [
    "In diesem Spiel ist das wahrscheinlichste Ergebnis (1, 2) mit einer Wahrscheinlichkeit von 0.278. "
   ]
  },
  {
   "cell_type": "markdown",
   "metadata": {},
   "source": [
    "Sehr häufig werden Sie diese Art von Tabelle in der Statistik sehen. Sie wird als **gemeinsame Verteilung** bezeichnet und wird oft in Tabellen dargestellt, wo\n",
    "die Werte des ersten Ergebnißes in den Zeilen und die Werte des zweiten Ergebnisses in den Spalten stehen. In den Zellen der Tabelle stehen die Wahrscheinlichkeiten."
   ]
  },
  {
   "cell_type": "code",
   "execution_count": 27,
   "metadata": {},
   "outputs": [
    {
     "data": {
      "text/html": [
       "<div>\n",
       "<style scoped>\n",
       "    .dataframe tbody tr th:only-of-type {\n",
       "        vertical-align: middle;\n",
       "    }\n",
       "\n",
       "    .dataframe tbody tr th {\n",
       "        vertical-align: top;\n",
       "    }\n",
       "\n",
       "    .dataframe thead th {\n",
       "        text-align: right;\n",
       "    }\n",
       "</style>\n",
       "<table border=\"1\" class=\"dataframe\">\n",
       "  <thead>\n",
       "    <tr style=\"text-align: right;\">\n",
       "      <th>y</th>\n",
       "      <th>0</th>\n",
       "      <th>1</th>\n",
       "      <th>2</th>\n",
       "    </tr>\n",
       "    <tr>\n",
       "      <th>x</th>\n",
       "      <th></th>\n",
       "      <th></th>\n",
       "      <th></th>\n",
       "    </tr>\n",
       "  </thead>\n",
       "  <tbody>\n",
       "    <tr>\n",
       "      <th>0</th>\n",
       "      <td>0.198694</td>\n",
       "      <td>0.068238</td>\n",
       "      <td>0.132942</td>\n",
       "    </tr>\n",
       "    <tr>\n",
       "      <th>1</th>\n",
       "      <td>0.080278</td>\n",
       "      <td>0.008387</td>\n",
       "      <td>0.278337</td>\n",
       "    </tr>\n",
       "    <tr>\n",
       "      <th>2</th>\n",
       "      <td>0.095935</td>\n",
       "      <td>0.051734</td>\n",
       "      <td>0.085454</td>\n",
       "    </tr>\n",
       "  </tbody>\n",
       "</table>\n",
       "</div>"
      ],
      "text/plain": [
       "y         0         1         2\n",
       "x                              \n",
       "0  0.198694  0.068238  0.132942\n",
       "1  0.080278  0.008387  0.278337\n",
       "2  0.095935  0.051734  0.085454"
      ]
     },
     "execution_count": 27,
     "metadata": {},
     "output_type": "execute_result"
    }
   ],
   "source": [
    "games2_wide = games2.pivot(index=\"x\", columns=\"y\", values=\"p_xy\")\n",
    "games2_wide"
   ]
  },
  {
   "cell_type": "markdown",
   "metadata": {},
   "source": [
    "Diese Ansicht is nützlich, denn sie erlaubt uns die Randverteilungen einfach (per Hand) zu berechnen. Die Randverteilungen sind die Verteilungen der einzelnen Zufallsvariablen. In unserem Beispiel sind die Randverteilungen die Verteilungen von `X` und `Y`.\n",
    "\n",
    "Die Randverteilung beantwortet die Frage: \"Was ist die Wahrscheinlichkeit, daß das erste Ergebnis 1 ist?\" oder \"Was ist die Wahrscheinlichkeit, daß das zweite Ergebnis 2 ist?\", usw.\n",
    "\n",
    "In der Tabelle oben kann $X = 1$ in drei verschiedenen Fällen eintreten: (1, 0), (1, 1), und (1, 2). Die Wahrscheinlichkeit, daß $X = 1$ ist, ist die Summe der Wahrscheinlichkeiten dieser drei Fälle, denn die Ereignisse sind disjunkt.\n",
    "\n",
    "Deswegen ist die Wahrscheinlichkeit, daß $X = 0$ ist, gleich 0.1986 + 0.0682 + 0.132942.\n",
    "Dieselbe Überlegung führ uns zu der Wahrscheinlichkeit, daß $X = 1$ ist: 0.080278 + 0.008387 + 0.278337\n",
    "und zu der Wahrscheinlichkeit, daß $X = 2$ ist: 0.095935 + 0.051734 + 0.085454.\n",
    "\n",
    "Ganz allgemein ergibt sich die Randverteilung von $X$ aus der gemeinsamen Verteilung, indem die Wahrscheinlichkeiten in den Zeilen addiert werden.\n",
    "\n",
    "Wenn wir die Tabelle spaltenweise addieren, erhalten wir die Randverteilung von $Y$.\n",
    "\n",
    "In Python ist es einfacher, die lange Form der Tabelle zu nutzen"
   ]
  },
  {
   "cell_type": "code",
   "execution_count": 28,
   "metadata": {},
   "outputs": [
    {
     "data": {
      "text/html": [
       "<div>\n",
       "<style scoped>\n",
       "    .dataframe tbody tr th:only-of-type {\n",
       "        vertical-align: middle;\n",
       "    }\n",
       "\n",
       "    .dataframe tbody tr th {\n",
       "        vertical-align: top;\n",
       "    }\n",
       "\n",
       "    .dataframe thead th {\n",
       "        text-align: right;\n",
       "    }\n",
       "</style>\n",
       "<table border=\"1\" class=\"dataframe\">\n",
       "  <thead>\n",
       "    <tr style=\"text-align: right;\">\n",
       "      <th></th>\n",
       "      <th>y</th>\n",
       "      <th>p_xy</th>\n",
       "    </tr>\n",
       "    <tr>\n",
       "      <th>x</th>\n",
       "      <th></th>\n",
       "      <th></th>\n",
       "    </tr>\n",
       "  </thead>\n",
       "  <tbody>\n",
       "    <tr>\n",
       "      <th>0</th>\n",
       "      <td>3</td>\n",
       "      <td>0.399875</td>\n",
       "    </tr>\n",
       "    <tr>\n",
       "      <th>1</th>\n",
       "      <td>3</td>\n",
       "      <td>0.367002</td>\n",
       "    </tr>\n",
       "    <tr>\n",
       "      <th>2</th>\n",
       "      <td>3</td>\n",
       "      <td>0.233123</td>\n",
       "    </tr>\n",
       "  </tbody>\n",
       "</table>\n",
       "</div>"
      ],
      "text/plain": [
       "   y      p_xy\n",
       "x             \n",
       "0  3  0.399875\n",
       "1  3  0.367002\n",
       "2  3  0.233123"
      ]
     },
     "execution_count": 28,
     "metadata": {},
     "output_type": "execute_result"
    }
   ],
   "source": [
    "games2.groupby(\"x\").sum() # Dir Randverteilung von X"
   ]
  },
  {
   "cell_type": "code",
   "execution_count": 29,
   "metadata": {},
   "outputs": [
    {
     "data": {
      "text/html": [
       "<div>\n",
       "<style scoped>\n",
       "    .dataframe tbody tr th:only-of-type {\n",
       "        vertical-align: middle;\n",
       "    }\n",
       "\n",
       "    .dataframe tbody tr th {\n",
       "        vertical-align: top;\n",
       "    }\n",
       "\n",
       "    .dataframe thead th {\n",
       "        text-align: right;\n",
       "    }\n",
       "</style>\n",
       "<table border=\"1\" class=\"dataframe\">\n",
       "  <thead>\n",
       "    <tr style=\"text-align: right;\">\n",
       "      <th></th>\n",
       "      <th>x</th>\n",
       "      <th>p_xy</th>\n",
       "    </tr>\n",
       "    <tr>\n",
       "      <th>y</th>\n",
       "      <th></th>\n",
       "      <th></th>\n",
       "    </tr>\n",
       "  </thead>\n",
       "  <tbody>\n",
       "    <tr>\n",
       "      <th>0</th>\n",
       "      <td>3</td>\n",
       "      <td>0.374907</td>\n",
       "    </tr>\n",
       "    <tr>\n",
       "      <th>1</th>\n",
       "      <td>3</td>\n",
       "      <td>0.128359</td>\n",
       "    </tr>\n",
       "    <tr>\n",
       "      <th>2</th>\n",
       "      <td>3</td>\n",
       "      <td>0.496734</td>\n",
       "    </tr>\n",
       "  </tbody>\n",
       "</table>\n",
       "</div>"
      ],
      "text/plain": [
       "   x      p_xy\n",
       "y             \n",
       "0  3  0.374907\n",
       "1  3  0.128359\n",
       "2  3  0.496734"
      ]
     },
     "execution_count": 29,
     "metadata": {},
     "output_type": "execute_result"
    }
   ],
   "source": [
    "games2.groupby(\"y\").sum() # Die Randverteilung von Y"
   ]
  },
  {
   "cell_type": "markdown",
   "metadata": {},
   "source": [
    "# Die bedingte Verteilung\n",
    "\n",
    "Bisher haben wir die gemeinsame Verteilung und die Randverteilungen betrachtet. Diese Verteilungen beantworten die Fragen:\n",
    "\n",
    "- Was ist die Wahrscheinlichkeit, daß das erste Ergebnis x **und** das zweite Ergebnis y ist? (gemeinsame Verteilung)\n",
    "- Was ist die Wahrscheinlichkeit, daß das erste Ergebnis x ist? (Randverteilung von X)\n",
    "- Was ist die Wahrscheinlichkeit, daß das zweite Ergebnis y ist? (Randverteilung von Y)\n",
    "\n",
    " Es gibt noch ein wichtiges Konzept, das wir betrachten müssen: die **bedingte Verteilung**. Stellen wir uns vor, dass wir die zwei Spiele nach einander spielen und das wir bereits das Ergebnis des ersten Spieles kennen. Lasst uns annehmen, dass wir vom ersten Spiel 1 EUR gewonnen haben. Was ist die Wahrscheinlichkeit, dass wir im zweiten Spiel 3 EUR gewinnen werden?\n",
    "\n",
    " Falls das erste Ergebnis 1 ist, dann sind die möglichen Ergebnisse des zweiten Spieles (1, 0), (1, 1), und (1, 2). Die restlichen Ergebnisse (0, 0), (0, 1), \n",
    "    (0, 2), (2, 0), (2, 1), und (2, 2) sind nicht möglich.\n",
    " \n",
    "Nach der gemeinsamen Verteilung sind die Wahrscheinlichkeiten dieser Ergebnisse sind 0.080278, 0.008387, und 0.278337. Diese Werte sind allerdings keine Wahrscheinlichkeitsverteilung (die Summe ist nicht 1). Wir müssen die Werte normieren, indem wir jeden Wert durch die Summe der Werte teilen.\n",
    "\n",
    "Wir erhalten dadurch die **bedingte** Verteilung von $Y$ gegeben $X = 1$. Diese Verteilung beantwortet die Frage: \"Was ist die Wahrscheinlichkeit, daß das zweite Ergebnis y ist, gegeben daß das erste Ergebnis 1 ist?\"\n",
    "\n",
    "Wir können die bedingten Verteilungen von $Y$ für jeden Wert von $X$ berechnen. Wir müssen nur die gemeinsame Verteilung durch die Randverteilung von $X$ teilen."
   ]
  },
  {
   "cell_type": "code",
   "execution_count": 33,
   "metadata": {},
   "outputs": [
    {
     "data": {
      "text/html": [
       "<div>\n",
       "<style scoped>\n",
       "    .dataframe tbody tr th:only-of-type {\n",
       "        vertical-align: middle;\n",
       "    }\n",
       "\n",
       "    .dataframe tbody tr th {\n",
       "        vertical-align: top;\n",
       "    }\n",
       "\n",
       "    .dataframe thead th {\n",
       "        text-align: right;\n",
       "    }\n",
       "</style>\n",
       "<table border=\"1\" class=\"dataframe\">\n",
       "  <thead>\n",
       "    <tr style=\"text-align: right;\">\n",
       "      <th></th>\n",
       "      <th>x</th>\n",
       "      <th>y</th>\n",
       "      <th>p_xy</th>\n",
       "    </tr>\n",
       "  </thead>\n",
       "  <tbody>\n",
       "    <tr>\n",
       "      <th>0</th>\n",
       "      <td>0</td>\n",
       "      <td>0</td>\n",
       "      <td>0.198694</td>\n",
       "    </tr>\n",
       "    <tr>\n",
       "      <th>1</th>\n",
       "      <td>0</td>\n",
       "      <td>1</td>\n",
       "      <td>0.068238</td>\n",
       "    </tr>\n",
       "    <tr>\n",
       "      <th>2</th>\n",
       "      <td>0</td>\n",
       "      <td>2</td>\n",
       "      <td>0.132942</td>\n",
       "    </tr>\n",
       "    <tr>\n",
       "      <th>3</th>\n",
       "      <td>1</td>\n",
       "      <td>0</td>\n",
       "      <td>0.080278</td>\n",
       "    </tr>\n",
       "    <tr>\n",
       "      <th>4</th>\n",
       "      <td>1</td>\n",
       "      <td>1</td>\n",
       "      <td>0.008387</td>\n",
       "    </tr>\n",
       "    <tr>\n",
       "      <th>5</th>\n",
       "      <td>1</td>\n",
       "      <td>2</td>\n",
       "      <td>0.278337</td>\n",
       "    </tr>\n",
       "    <tr>\n",
       "      <th>6</th>\n",
       "      <td>2</td>\n",
       "      <td>0</td>\n",
       "      <td>0.095935</td>\n",
       "    </tr>\n",
       "    <tr>\n",
       "      <th>7</th>\n",
       "      <td>2</td>\n",
       "      <td>1</td>\n",
       "      <td>0.051734</td>\n",
       "    </tr>\n",
       "    <tr>\n",
       "      <th>8</th>\n",
       "      <td>2</td>\n",
       "      <td>2</td>\n",
       "      <td>0.085454</td>\n",
       "    </tr>\n",
       "  </tbody>\n",
       "</table>\n",
       "</div>"
      ],
      "text/plain": [
       "   x  y      p_xy\n",
       "0  0  0  0.198694\n",
       "1  0  1  0.068238\n",
       "2  0  2  0.132942\n",
       "3  1  0  0.080278\n",
       "4  1  1  0.008387\n",
       "5  1  2  0.278337\n",
       "6  2  0  0.095935\n",
       "7  2  1  0.051734\n",
       "8  2  2  0.085454"
      ]
     },
     "execution_count": 33,
     "metadata": {},
     "output_type": "execute_result"
    }
   ],
   "source": [
    "games2"
   ]
  },
  {
   "cell_type": "code",
   "execution_count": 41,
   "metadata": {},
   "outputs": [
    {
     "data": {
      "text/html": [
       "<div>\n",
       "<style scoped>\n",
       "    .dataframe tbody tr th:only-of-type {\n",
       "        vertical-align: middle;\n",
       "    }\n",
       "\n",
       "    .dataframe tbody tr th {\n",
       "        vertical-align: top;\n",
       "    }\n",
       "\n",
       "    .dataframe thead th {\n",
       "        text-align: right;\n",
       "    }\n",
       "</style>\n",
       "<table border=\"1\" class=\"dataframe\">\n",
       "  <thead>\n",
       "    <tr style=\"text-align: right;\">\n",
       "      <th></th>\n",
       "      <th>x</th>\n",
       "      <th>y</th>\n",
       "      <th>p_xy</th>\n",
       "      <th>p_x</th>\n",
       "      <th>p_y_given_x</th>\n",
       "    </tr>\n",
       "  </thead>\n",
       "  <tbody>\n",
       "    <tr>\n",
       "      <th>0</th>\n",
       "      <td>0</td>\n",
       "      <td>0</td>\n",
       "      <td>0.198694</td>\n",
       "      <td>0.399875</td>\n",
       "      <td>0.496891</td>\n",
       "    </tr>\n",
       "    <tr>\n",
       "      <th>1</th>\n",
       "      <td>0</td>\n",
       "      <td>1</td>\n",
       "      <td>0.068238</td>\n",
       "      <td>0.399875</td>\n",
       "      <td>0.170649</td>\n",
       "    </tr>\n",
       "    <tr>\n",
       "      <th>2</th>\n",
       "      <td>0</td>\n",
       "      <td>2</td>\n",
       "      <td>0.132942</td>\n",
       "      <td>0.399875</td>\n",
       "      <td>0.332459</td>\n",
       "    </tr>\n",
       "    <tr>\n",
       "      <th>3</th>\n",
       "      <td>1</td>\n",
       "      <td>0</td>\n",
       "      <td>0.080278</td>\n",
       "      <td>0.367002</td>\n",
       "      <td>0.218740</td>\n",
       "    </tr>\n",
       "    <tr>\n",
       "      <th>4</th>\n",
       "      <td>1</td>\n",
       "      <td>1</td>\n",
       "      <td>0.008387</td>\n",
       "      <td>0.367002</td>\n",
       "      <td>0.022852</td>\n",
       "    </tr>\n",
       "    <tr>\n",
       "      <th>5</th>\n",
       "      <td>1</td>\n",
       "      <td>2</td>\n",
       "      <td>0.278337</td>\n",
       "      <td>0.367002</td>\n",
       "      <td>0.758408</td>\n",
       "    </tr>\n",
       "    <tr>\n",
       "      <th>6</th>\n",
       "      <td>2</td>\n",
       "      <td>0</td>\n",
       "      <td>0.095935</td>\n",
       "      <td>0.233123</td>\n",
       "      <td>0.411521</td>\n",
       "    </tr>\n",
       "    <tr>\n",
       "      <th>7</th>\n",
       "      <td>2</td>\n",
       "      <td>1</td>\n",
       "      <td>0.051734</td>\n",
       "      <td>0.233123</td>\n",
       "      <td>0.221916</td>\n",
       "    </tr>\n",
       "    <tr>\n",
       "      <th>8</th>\n",
       "      <td>2</td>\n",
       "      <td>2</td>\n",
       "      <td>0.085454</td>\n",
       "      <td>0.233123</td>\n",
       "      <td>0.366563</td>\n",
       "    </tr>\n",
       "  </tbody>\n",
       "</table>\n",
       "</div>"
      ],
      "text/plain": [
       "   x  y      p_xy       p_x  p_y_given_x\n",
       "0  0  0  0.198694  0.399875     0.496891\n",
       "1  0  1  0.068238  0.399875     0.170649\n",
       "2  0  2  0.132942  0.399875     0.332459\n",
       "3  1  0  0.080278  0.367002     0.218740\n",
       "4  1  1  0.008387  0.367002     0.022852\n",
       "5  1  2  0.278337  0.367002     0.758408\n",
       "6  2  0  0.095935  0.233123     0.411521\n",
       "7  2  1  0.051734  0.233123     0.221916\n",
       "8  2  2  0.085454  0.233123     0.366563"
      ]
     },
     "execution_count": 41,
     "metadata": {},
     "output_type": "execute_result"
    }
   ],
   "source": [
    "games2[\"p_x\"] = games2.groupby(\"x\")[\"p_xy\"].transform('sum') # Die Randverteilung von X\n",
    "games2[\"p_y_given_x\"] = games2[\"p_xy\"] / games2[\"p_x\"] # Die bedingte Wahrscheinlichkeit von Y gegeben X\n",
    "games2"
   ]
  },
  {
   "cell_type": "code",
   "execution_count": 43,
   "metadata": {},
   "outputs": [
    {
     "data": {
      "text/plain": [
       "x\n",
       "0    1.0\n",
       "1    1.0\n",
       "2    1.0\n",
       "Name: p_y_given_x, dtype: float64"
      ]
     },
     "execution_count": 43,
     "metadata": {},
     "output_type": "execute_result"
    }
   ],
   "source": [
    "# Überprüfen wir, dass sich die bedingten Wahrscheinlichkeiten zu 1 summieren\n",
    "\n",
    "games2.groupby(\"x\")[\"p_y_given_x\"].sum()"
   ]
  },
  {
   "cell_type": "markdown",
   "metadata": {},
   "source": [
    "## Unabhängigkeit\n",
    "\n",
    "Zwei Zufallsvariablen $X$ und $Y$ nennen wir unabhängig, wenn die bedingten Verteilungen von $Y$ gegeben $X$ gleich der Randverteilung von $Y$ sind. Das bedeutet, daß das Wissen über $X$ uns nicht hilft, die Wahrscheinlichkeiten von $Y$ zu bestimmen.\n",
    "\n",
    "Falls zwei Zufallsvariablen unabhängig sind, dann ist die gemeinsame Verteilung das Produkt der Randverteilungen.\n",
    "\n",
    "$$\n",
    "f_{X, Y}(x, y) = f_X(x) \\cdot f_Y(y)\n",
    "$$\n",
    "\n",
    "\n"
   ]
  },
  {
   "cell_type": "code",
   "execution_count": 53,
   "metadata": {},
   "outputs": [
    {
     "data": {
      "text/html": [
       "<div>\n",
       "<style scoped>\n",
       "    .dataframe tbody tr th:only-of-type {\n",
       "        vertical-align: middle;\n",
       "    }\n",
       "\n",
       "    .dataframe tbody tr th {\n",
       "        vertical-align: top;\n",
       "    }\n",
       "\n",
       "    .dataframe thead th {\n",
       "        text-align: right;\n",
       "    }\n",
       "</style>\n",
       "<table border=\"1\" class=\"dataframe\">\n",
       "  <thead>\n",
       "    <tr style=\"text-align: right;\">\n",
       "      <th></th>\n",
       "      <th>x</th>\n",
       "      <th>y</th>\n",
       "      <th>p_xy</th>\n",
       "    </tr>\n",
       "  </thead>\n",
       "  <tbody>\n",
       "    <tr>\n",
       "      <th>0</th>\n",
       "      <td>0</td>\n",
       "      <td>0</td>\n",
       "      <td>0.25</td>\n",
       "    </tr>\n",
       "    <tr>\n",
       "      <th>1</th>\n",
       "      <td>0</td>\n",
       "      <td>1</td>\n",
       "      <td>0.05</td>\n",
       "    </tr>\n",
       "    <tr>\n",
       "      <th>2</th>\n",
       "      <td>0</td>\n",
       "      <td>2</td>\n",
       "      <td>0.20</td>\n",
       "    </tr>\n",
       "    <tr>\n",
       "      <th>3</th>\n",
       "      <td>1</td>\n",
       "      <td>0</td>\n",
       "      <td>0.15</td>\n",
       "    </tr>\n",
       "    <tr>\n",
       "      <th>4</th>\n",
       "      <td>1</td>\n",
       "      <td>1</td>\n",
       "      <td>0.03</td>\n",
       "    </tr>\n",
       "    <tr>\n",
       "      <th>5</th>\n",
       "      <td>1</td>\n",
       "      <td>2</td>\n",
       "      <td>0.12</td>\n",
       "    </tr>\n",
       "    <tr>\n",
       "      <th>6</th>\n",
       "      <td>2</td>\n",
       "      <td>0</td>\n",
       "      <td>0.10</td>\n",
       "    </tr>\n",
       "    <tr>\n",
       "      <th>7</th>\n",
       "      <td>2</td>\n",
       "      <td>1</td>\n",
       "      <td>0.02</td>\n",
       "    </tr>\n",
       "    <tr>\n",
       "      <th>8</th>\n",
       "      <td>2</td>\n",
       "      <td>2</td>\n",
       "      <td>0.08</td>\n",
       "    </tr>\n",
       "  </tbody>\n",
       "</table>\n",
       "</div>"
      ],
      "text/plain": [
       "   x  y  p_xy\n",
       "0  0  0  0.25\n",
       "1  0  1  0.05\n",
       "2  0  2  0.20\n",
       "3  1  0  0.15\n",
       "4  1  1  0.03\n",
       "5  1  2  0.12\n",
       "6  2  0  0.10\n",
       "7  2  1  0.02\n",
       "8  2  2  0.08"
      ]
     },
     "execution_count": 53,
     "metadata": {},
     "output_type": "execute_result"
    }
   ],
   "source": [
    "# Hier konstruieren wir die gemeinsame Verteilung von den Randverteilungen der \n",
    "# beiden Spiel X und Y\n",
    "\n",
    "xy = list(itertools.product([0, 1, 2], [0, 1, 2]))\n",
    "probs = list(itertools.product([0.5, 0.3, 0.2], [0.5, 0.1, 0.4]))\n",
    "\n",
    "# Wir multiplizieren die Randverteilungen von X und Y um die gemeinsame Verteilung zu erhalten\n",
    "joint_probs = [p_x * p_y for p_x, p_y in probs]\n",
    "\n",
    "games_ind = pd.DataFrame(xy, columns=[\"x\", \"y\"])\n",
    "games_ind[\"p_xy\"] = joint_probs\n",
    "games_ind"
   ]
  },
  {
   "cell_type": "code",
   "execution_count": 56,
   "metadata": {},
   "outputs": [
    {
     "data": {
      "text/html": [
       "<div>\n",
       "<style scoped>\n",
       "    .dataframe tbody tr th:only-of-type {\n",
       "        vertical-align: middle;\n",
       "    }\n",
       "\n",
       "    .dataframe tbody tr th {\n",
       "        vertical-align: top;\n",
       "    }\n",
       "\n",
       "    .dataframe thead th {\n",
       "        text-align: right;\n",
       "    }\n",
       "</style>\n",
       "<table border=\"1\" class=\"dataframe\">\n",
       "  <thead>\n",
       "    <tr style=\"text-align: right;\">\n",
       "      <th></th>\n",
       "      <th>x</th>\n",
       "      <th>y</th>\n",
       "      <th>p_xy</th>\n",
       "      <th>p_y_given_x</th>\n",
       "    </tr>\n",
       "  </thead>\n",
       "  <tbody>\n",
       "    <tr>\n",
       "      <th>0</th>\n",
       "      <td>0</td>\n",
       "      <td>0</td>\n",
       "      <td>0.25</td>\n",
       "      <td>0.5</td>\n",
       "    </tr>\n",
       "    <tr>\n",
       "      <th>1</th>\n",
       "      <td>0</td>\n",
       "      <td>1</td>\n",
       "      <td>0.05</td>\n",
       "      <td>0.1</td>\n",
       "    </tr>\n",
       "    <tr>\n",
       "      <th>2</th>\n",
       "      <td>0</td>\n",
       "      <td>2</td>\n",
       "      <td>0.20</td>\n",
       "      <td>0.4</td>\n",
       "    </tr>\n",
       "    <tr>\n",
       "      <th>3</th>\n",
       "      <td>1</td>\n",
       "      <td>0</td>\n",
       "      <td>0.15</td>\n",
       "      <td>0.5</td>\n",
       "    </tr>\n",
       "    <tr>\n",
       "      <th>4</th>\n",
       "      <td>1</td>\n",
       "      <td>1</td>\n",
       "      <td>0.03</td>\n",
       "      <td>0.1</td>\n",
       "    </tr>\n",
       "    <tr>\n",
       "      <th>5</th>\n",
       "      <td>1</td>\n",
       "      <td>2</td>\n",
       "      <td>0.12</td>\n",
       "      <td>0.4</td>\n",
       "    </tr>\n",
       "    <tr>\n",
       "      <th>6</th>\n",
       "      <td>2</td>\n",
       "      <td>0</td>\n",
       "      <td>0.10</td>\n",
       "      <td>0.5</td>\n",
       "    </tr>\n",
       "    <tr>\n",
       "      <th>7</th>\n",
       "      <td>2</td>\n",
       "      <td>1</td>\n",
       "      <td>0.02</td>\n",
       "      <td>0.1</td>\n",
       "    </tr>\n",
       "    <tr>\n",
       "      <th>8</th>\n",
       "      <td>2</td>\n",
       "      <td>2</td>\n",
       "      <td>0.08</td>\n",
       "      <td>0.4</td>\n",
       "    </tr>\n",
       "  </tbody>\n",
       "</table>\n",
       "</div>"
      ],
      "text/plain": [
       "   x  y  p_xy  p_y_given_x\n",
       "0  0  0  0.25          0.5\n",
       "1  0  1  0.05          0.1\n",
       "2  0  2  0.20          0.4\n",
       "3  1  0  0.15          0.5\n",
       "4  1  1  0.03          0.1\n",
       "5  1  2  0.12          0.4\n",
       "6  2  0  0.10          0.5\n",
       "7  2  1  0.02          0.1\n",
       "8  2  2  0.08          0.4"
      ]
     },
     "execution_count": 56,
     "metadata": {},
     "output_type": "execute_result"
    }
   ],
   "source": [
    "# Lasst uns die bedingten Verteilungen von Y gegeben X berechnen (für jedes x)\n",
    "\n",
    "games_ind[\"p_y_given_x\"] = games_ind[\"p_xy\"] / games_ind.groupby(\"x\")[\"p_xy\"].transform('sum')\n",
    "games_ind"
   ]
  },
  {
   "cell_type": "markdown",
   "metadata": {},
   "source": [
    "Was wir feststellen müssen ist es, daß die bedingten Verteilungen von $Y$ gegeben $X$ für jeden Wert von $X$ gleich sind."
   ]
  },
  {
   "cell_type": "code",
   "execution_count": 59,
   "metadata": {},
   "outputs": [
    {
     "data": {
      "text/plain": [
       "y\n",
       "0    0.5\n",
       "1    0.1\n",
       "2    0.4\n",
       "Name: p_xy, dtype: float64"
      ]
     },
     "execution_count": 59,
     "metadata": {},
     "output_type": "execute_result"
    }
   ],
   "source": [
    "# Lasst und die Randverteilung von Y berechnen\n",
    "\n",
    "p_y = games_ind.groupby(\"y\")[\"p_xy\"].sum()\n",
    "p_y"
   ]
  },
  {
   "cell_type": "markdown",
   "metadata": {},
   "source": [
    "## Die Kovarianz\n",
    "\n",
    "Wir haben bisher die Randverteilungen von Zufallsvariablen durch den Erwartungswert (Lage) und durch die Varianz (Streuung) zusammengefasst. Wir können auch die gemeinsame Verteilung von zwei Zufallsvariablen hinsichtlich des Zusammenhangs zwischen den beiden Variablen zusammenfassen.\n",
    "\n",
    "\n",
    ":::{#def-covariance}\n",
    "## Kovarianz\n",
    "\n",
    "$$\n",
    "\\text{Cov}(X, Y) = E_{XY}((X - E(X)) \\cdot (Y - E(Y)))\n",
    "$$\n",
    "\n",
    "Wir schreiben $E_{XY}$, um zu betonen, daß wir den Erwartungswert über die gemeinsame Verteilung berechnen.\n",
    "\n",
    ":::\n",
    "\n",
    "Um die Kovarianz berechnen zu können ist oftmals der folgende Satz nützlich:\n",
    "\n",
    ":::{#thm-covariance-decomposition}\n",
    "## Kovarianzzerlegung\n",
    "\n",
    "$$\n",
    "\\text{Cov}(X, Y) = E_{XY}(X \\cdot Y) - E(X) \\cdot E(Y)\n",
    "$$\n",
    ":::{.proof}\n",
    "\n",
    "Der Satz ist sehr leicht zu beweisen. Wir müssen nur die Definition der Kovarianz und die Definition des Erwartungswertes benutzen.\n",
    "\n",
    "$$\n",
    "\\begin{align*}\n",
    "\\text{Cov}(X, Y) & = E_{XY}((X - E(X)) \\cdot (Y - E(Y))) \\\\\n",
    "& = E_{XY}(X \\cdot Y - X \\cdot E(Y) - E(X) \\cdot Y + E(X) \\cdot E(Y)) \\\\\n",
    "& = E_{XY}(X \\cdot Y) - E_{XY}(X \\cdot E(Y)) - E_{XY}(E(X) \\cdot Y) + E_{XY}(E(X) \\cdot E(Y)) \\\\\n",
    "& = E_{XY}(X \\cdot Y) - E(X) \\cdot E(Y)\n",
    "\\end{align*}\n",
    "$$\n",
    "\n",
    "\n",
    ":::"
   ]
  },
  {
   "cell_type": "code",
   "execution_count": 60,
   "metadata": {},
   "outputs": [
    {
     "data": {
      "text/plain": [
       "0.38034575941137405"
      ]
     },
     "execution_count": 60,
     "metadata": {},
     "output_type": "execute_result"
    }
   ],
   "source": [
    "# Berechnen wir die Kovarianz für die zwei Spiele in games2\n",
    "\n",
    "games2[\"xy\"] = games2[\"x\"] * games2[\"y\"]\n",
    "E_XY = np.sum(games2[\"xy\"] * games2[\"p_xy\"])\n",
    "\n",
    "cov_XY = E_XY - E_X * E_Y\n",
    "cov_XY"
   ]
  },
  {
   "cell_type": "code",
   "execution_count": 65,
   "metadata": {},
   "outputs": [
    {
     "data": {
      "text/plain": [
       "1.1102230246251565e-16"
      ]
     },
     "execution_count": 65,
     "metadata": {},
     "output_type": "execute_result"
    }
   ],
   "source": [
    "# Berechnen wir die Kovarianz für die zwei Spiele in games_ind\n",
    "\n",
    "games_ind[\"xy\"] = games_ind[\"x\"] * games_ind[\"y\"]\n",
    "E_XY_ind = np.sum(games_ind[\"xy\"] * games_ind[\"p_xy\"])\n",
    "E_X_ind = np.sum(games[\"x\"] * games[\"p_x\"])\n",
    "\n",
    "E_Y_ind = np.sum(games[\"y\"] * games[\"p_y\"])\n",
    "cov_XY_ind = E_XY_ind - E_X_ind * E_Y_ind\n",
    "cov_XY_ind"
   ]
  },
  {
   "cell_type": "markdown",
   "metadata": {},
   "source": [
    "Was wir uns hier merken können ist es, dass die Kovarianz im Fall von unabhängigen Zufallsvariablen 0 ist. Die Umkehrung ist jedoch nicht wahr. Es ist durchaus möglich, daß zwei Variablen eine Kovarianz von 0 haben, die allerdings nicht unabhängig sind."
   ]
  }
 ],
 "metadata": {
  "kernelspec": {
   "display_name": "econ2024",
   "language": "python",
   "name": "python3"
  },
  "language_info": {
   "codemirror_mode": {
    "name": "ipython",
    "version": 3
   },
   "file_extension": ".py",
   "mimetype": "text/x-python",
   "name": "python",
   "nbconvert_exporter": "python",
   "pygments_lexer": "ipython3",
   "version": "3.11.7"
  }
 },
 "nbformat": 4,
 "nbformat_minor": 2
}
