{
 "cells": [
  {
   "cell_type": "code",
   "execution_count": 1,
   "metadata": {},
   "outputs": [],
   "source": [
    "#| echo: false\n",
    "\n",
    "import pandas as pd\n",
    "import numpy as np\n",
    "import seaborn as sns"
   ]
  },
  {
   "cell_type": "markdown",
   "metadata": {},
   "source": [
    "## Probability {#sec-probability}\n",
    "\n",
    "Imagine a game where you flip a single coin once. The possible outcomes are head (H) and tail (T). The set of all possible outcomes of the game is called the *sample* space of the experiment. We will denote this set with $\\Omega$. For a single coin toss game, the sample space is $\\Omega = \\{\\text{heads}, \\text{tails}\\}$.\n",
    "\n",
    "::: {#def-probability}\n",
    "## Probability\n",
    "\n",
    "Let $\\Omega$ denote the sample space of a random experiment. Let $A \\subseteq \\Omega$ and $B \\subset \\Omega$ be two disjoint events (i.e. $A \\cap B = \\varnothing$). Disjoint events are events that cannot co-occur. A probability measure on this space has the following properties:\n",
    "\n",
    "$$\n",
    "\\begin{align}\n",
    "  & P(A) \\geq 0 \\qquad \\text{non-negativity}\\\\\n",
    "  & P(\\Omega) = 1 \\qquad  \\text{unit measure} \\\\\n",
    "  & P(A \\cup B) = P(A) + P(B) \\qquad \\text{additivity}\n",
    "\\end{align}\n",
    "$$\n",
    ":::\n",
    "\n",
    ":::{#thm-probability-complement}\n",
    "## Probability of complementary sets\n",
    "\n",
    "Let $\\Omega$ be a sample space, let $A \\subseteq \\Omega$ be a subset of the sample space, and let $\\bar{A} = \\Omega \\setminus A$ be the complement of $A$ in $\\Omega$. Then the probability of the complementary set is given by:\n",
    "\n",
    "$$\n",
    "P(A) = 1 - P(\\bar{A})\n",
    "$$\n",
    ":::\n",
    "\n",
    ":::{.proof}\n",
    "For the proof note that $A$ and $\\bar{A}$ are disjoint by definition ($A \\cap \\bar{A} = \\varnothing$). Using the additivity of probability together with the unit probability of the sample space $\\Omega$ from @def-probability, it follows that:\n",
    "\n",
    "$$\n",
    "\\begin{align*}\n",
    "    P(A \\cup \\bar{A}) = P(A) + P(\\bar{A})\n",
    "\\end{align*}\n",
    "$$\n",
    "\n",
    "$$\n",
    "\\begin{align*}\n",
    "    P(A \\cup \\bar{A}) & =  P(\\Omega) \\\\\n",
    "    P(A) + P(\\bar{A}) & = 1 \\implies \\\\\n",
    "    P(A) & = 1 - P(\\bar{A}).\n",
    "\\end{align*}\n",
    "$$\n",
    ":::\n",
    "\n",
    "::: {#exm-probability-weather}\n",
    "## Weather forecast\n",
    "\n",
    "The weather forecast for the next day shows that it will be raining ($A$) with probability $P(A) = 0.3$. The sample space is $\\Omega = \\{A, \\bar{A}\\}$ and the probability of not raining ($\\bar{A}$) is then $P(\\bar{A}) = 1 - 0.3 = 0.7$.\n",
    ":::\n",
    "\n",
    "::: {#exm-probability-dice}\n",
    "## Dice\n",
    "\n",
    "In a game where you roll a (6-sided) dice once the sample space is $\\Omega = \\{1, 2, 3, 4, 5, 6\\}$. Denote the outcome of a roll with $X$ and assume that the probability of each outcome is equal: $P(X = i) = 1 / 6, i = 1,2,\\ldots,6$. The probability of the event $X = 1$ is then $P(X = 1) = 1/6$. The probability of the event \"outcome is not one\" is $P(X \\neq 1) = P(X > 1) = 5 / 6.$\n",
    ":::\n",
    "\n",
    "See @BERTSEKAS2008IntroductionProbability (Chapter 1) for a more thorough treatment of the subject."
   ]
  },
  {
   "cell_type": "markdown",
   "metadata": {},
   "source": [
    "## A Simulated Game\n",
    "\n",
    "Let's create two games to illustrate the concept of probability. In both games the sample space is $\\Omega = \\{0, 1, 2\\}$, i.e. the outcome of the game is a number between 0 and 2. The probabilities of the possible outcomes (let's sey winnings) are given by the following table:"
   ]
  },
  {
   "cell_type": "code",
   "execution_count": 3,
   "metadata": {},
   "outputs": [
    {
     "data": {
      "text/markdown": [
       "|   x |   p_x |   y |   p_y |\n",
       "|----:|------:|----:|------:|\n",
       "|   0 |   0.5 |   0 |   0.5 |\n",
       "|   1 |   0.3 |   1 |   0.1 |\n",
       "|   2 |   0.2 |   2 |   0.3 |"
      ],
      "text/plain": [
       "<IPython.core.display.Markdown object>"
      ]
     },
     "execution_count": 3,
     "metadata": {},
     "output_type": "execute_result"
    }
   ],
   "source": [
    "#| label: tbl-games\n",
    "#| tbl-cap: Outcomes and probabilities\n",
    "\n",
    "games = pd.DataFrame({\n",
    "    'x': [0, 1, 2],\n",
    "    \"p_x\": [0.5, 0.3, 0.2],\n",
    "    'y': [0, 1, 2],\n",
    "    \"p_y\": [0.5, 0.1, 0.3]\n",
    "})\n",
    "\n",
    "# games.style.hide_index()\n",
    "from IPython.display import Markdown\n",
    "Markdown(games.to_markdown(index=False))\n"
   ]
  },
  {
   "cell_type": "code",
   "execution_count": 3,
   "metadata": {},
   "outputs": [
    {
     "name": "stdout",
     "output_type": "stream",
     "text": [
      "Expected value of X: 0.7\n",
      "Expected value of Y: 0.7\n"
     ]
    }
   ],
   "source": [
    "# The expected values of the games are:\n",
    "\n",
    "# E[X] = 0 * 0.5 + 1 * 0.3 + 2 * 0.2 = 0.7\n",
    "# E[Y] = 0 * 0.5 + 1 * 0.1 + 2 * 0.3 = 0.7\n",
    "\n",
    "E_X = np.sum(games['x'] * games['p_x'])\n",
    "E_Y = np.sum(games['y'] * games['p_y'])\n",
    "\n",
    "print(\"Expected value of X:\", E_X)\n",
    "print(\"Expected value of Y:\", E_Y)\n"
   ]
  }
 ],
 "metadata": {
  "kernelspec": {
   "display_name": "econ2024",
   "language": "python",
   "name": "python3"
  },
  "language_info": {
   "codemirror_mode": {
    "name": "ipython",
    "version": 3
   },
   "file_extension": ".py",
   "mimetype": "text/x-python",
   "name": "python",
   "nbconvert_exporter": "python",
   "pygments_lexer": "ipython3",
   "version": "3.11.7"
  }
 },
 "nbformat": 4,
 "nbformat_minor": 2
}
