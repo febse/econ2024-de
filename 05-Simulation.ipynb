{
 "cells": [
  {
   "cell_type": "code",
   "execution_count": 1,
   "metadata": {},
   "outputs": [],
   "source": [
    "import matplotlib.pyplot as plt\n",
    "import pandas as pd\n",
    "import numpy as np\n",
    "import seaborn as sns\n",
    "\n",
    "%matplotlib inline"
   ]
  },
  {
   "cell_type": "code",
   "execution_count": 33,
   "metadata": {},
   "outputs": [],
   "source": [
    "from sklearn.linear_model import LinearRegression\n",
    "from statsmodels.formula.api import ols\n",
    "\n",
    "np.random.seed(0)\n",
    "\n",
    "B = 1000\n",
    "N = 100\n",
    "\n",
    "# Generate the random deviations\n",
    "e = np.random.normal(loc=0, scale=2, size=N * B)\n",
    "\n",
    "x = np.tile(np.arange(1, N+1), B)\n",
    "\n",
    "y = 2 + 3*x + e\n",
    "sim_id = np.repeat(np.arange(1, B+1), N)\n",
    "\n",
    "dt = pd.DataFrame({'sim_id': sim_id, 'x': x, 'y': y})\n",
    "\n",
    "# Fit the models\n",
    "\n",
    "\n",
    "def fit_ols(dat):\n",
    "    fit = ols('y ~ x', dat).fit()\n",
    "\n",
    "    return pd.Series({\n",
    "        'intercept': fit.params['Intercept'],\n",
    "        'intercept_se': fit.bse['Intercept'],\n",
    "        'slope': fit.params['x'],\n",
    "        'slope_se': fit.bse['x']\n",
    "    })\n",
    "\n",
    "res = dt.groupby('sim_id').apply(fit_ols)"
   ]
  }
 ],
 "metadata": {
  "kernelspec": {
   "display_name": "econ2024",
   "language": "python",
   "name": "python3"
  },
  "language_info": {
   "codemirror_mode": {
    "name": "ipython",
    "version": 3
   },
   "file_extension": ".py",
   "mimetype": "text/x-python",
   "name": "python",
   "nbconvert_exporter": "python",
   "pygments_lexer": "ipython3",
   "version": "3.11.7"
  }
 },
 "nbformat": 4,
 "nbformat_minor": 2
}
